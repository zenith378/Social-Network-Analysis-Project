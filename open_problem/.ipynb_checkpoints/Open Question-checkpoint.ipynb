{
 "cells": [
  {
   "cell_type": "code",
   "execution_count": 1,
   "id": "b9ed0e4e",
   "metadata": {},
   "outputs": [
    {
     "data": {
      "text/html": [
       "        <script type=\"text/javascript\">\n",
       "        window.PlotlyConfig = {MathJaxConfig: 'local'};\n",
       "        if (window.MathJax && window.MathJax.Hub && window.MathJax.Hub.Config) {window.MathJax.Hub.Config({SVG: {font: \"STIX-Web\"}});}\n",
       "        if (typeof require !== 'undefined') {\n",
       "        require.undef(\"plotly\");\n",
       "        requirejs.config({\n",
       "            paths: {\n",
       "                'plotly': ['https://cdn.plot.ly/plotly-2.14.0.min']\n",
       "            }\n",
       "        });\n",
       "        require(['plotly'], function(Plotly) {\n",
       "            window._Plotly = Plotly;\n",
       "        });\n",
       "        }\n",
       "        </script>\n",
       "        "
      ]
     },
     "metadata": {},
     "output_type": "display_data"
    }
   ],
   "source": [
    "#import libraries\n",
    "%matplotlib inline\n",
    "\n",
    "import warnings\n",
    "from collections import Counter\n",
    "import numpy as np\n",
    "warnings.filterwarnings('ignore')\n",
    "import networkx as nx\n",
    "import pandas as pd\n",
    "from networkx.generators.community import LFR_benchmark_graph\n",
    "import matplotlib.pyplot as plt\n",
    "plt.style.use('seaborn-whitegrid')\n",
    "import plotly.graph_objects as go\n",
    "from collections import Counter\n",
    "import datetime\n",
    "import matplotlib.pyplot as plt\n",
    "\n",
    "from plotly.offline import download_plotlyjs, init_notebook_mode, plot, iplot\n",
    "init_notebook_mode(connected=True)"
   ]
  },
  {
   "cell_type": "code",
   "execution_count": 2,
   "id": "2e644b0f",
   "metadata": {},
   "outputs": [],
   "source": [
    "#import dataset, where the number indicates the timestamp\n",
    "df1 = pd.read_csv(\"../data_collection/data/RW_Graphs/df_S1.csv\", skipinitialspace=True, na_values='?', keep_default_na=True)\n",
    "\n",
    "df2 = pd.read_csv(\"../data_collection/data/RW_Graphs/df_S2.csv\", skipinitialspace=True, na_values='?', keep_default_na=True)\n",
    "\n",
    "df3 = pd.read_csv(\"../data_collection/data/RW_Graphs/df_S3.csv\", skipinitialspace=True, na_values='?', keep_default_na=True)\n",
    "\n",
    "df4 = pd.read_csv(\"../data_collection/data/RW_Graphs/df_S4.csv\", skipinitialspace=True, na_values='?', keep_default_na=True)"
   ]
  },
  {
   "cell_type": "code",
   "execution_count": 3,
   "id": "9c2cb44a",
   "metadata": {},
   "outputs": [],
   "source": [
    "def dict_bin(test_dict):\n",
    "    '''Function that takes a dictionary of the form user:label as input and return \n",
    "    the same dictionary with the label binned in 4 bins'''\n",
    "    res=dict()\n",
    "    for key in test_dict: #iterate over the dictionary\n",
    "        if test_dict[key]<0.25: res[key]=0 #if the value is less than 0.25, the label is set to 0\n",
    "        if test_dict[key]>=0.25 and test_dict[key]<0.5: res[key]=0.25 #if the label is between 0.25 and 0.5, the label is set to 0.25\n",
    "        if test_dict[key]>=0.5 and test_dict[key]<0.75: res[key]=0.5 #see above\n",
    "        if test_dict[key]>=0.75: res[key]=1 #idem\n",
    "    return res\n",
    "\n",
    "  "
   ]
  },
  {
   "cell_type": "code",
   "execution_count": 4,
   "id": "b6e060d9",
   "metadata": {},
   "outputs": [],
   "source": [
    "#create data for sankey plot\n",
    "def create_data(data,N):  \n",
    "    '''Function used to format the data for the Sankey plot. \n",
    "    Input is a dataframe and the number of tweets each user must write \n",
    "    in a temporal window, output is a dictionary of the form user:label'''\n",
    "    \n",
    "    gb = data.groupby(['User']) #group all the tweets by user \n",
    "    counts = gb.size().to_frame(name='counts') #calculate how many tweets each user wrote\n",
    "    #recalculate user_label: take the mean of all the tweet label for each user\n",
    "    df1_count=counts.join(gb.agg({'tweet_label': 'mean'}).rename(columns={'tweet_label': 'user_label'}))\n",
    "    \n",
    "    #keep only the users that wrote at least N tweet \n",
    "    #N=0\n",
    "    df1_sorted=df1_count.loc[(df1_count['counts'] >= N)]\n",
    "    \n",
    "    #create the dictionary of the form user:label\n",
    "    df1_dict=pd.Series(df1_sorted.user_label.values,index=df1_sorted.index).to_dict()\n",
    "    #bin the dictionary \n",
    "    df1_dict=dict_bin(df1_dict)\n",
    "    return df1_dict"
   ]
  },
  {
   "cell_type": "code",
   "execution_count": 5,
   "id": "4b248f7f",
   "metadata": {},
   "outputs": [],
   "source": [
    "#create data, at least one tweet per user\n",
    "df1_dict=create_data(df1,1)\n",
    "df2_dict=create_data(df2,1)\n",
    "df3_dict=create_data(df3,1)\n",
    "df4_dict=create_data(df4,1)"
   ]
  },
  {
   "cell_type": "code",
   "execution_count": 6,
   "id": "a404559b",
   "metadata": {},
   "outputs": [
    {
     "data": {
      "text/plain": [
       "'idx = df1_sorted.index.intersection(df2_sorted.index)\\ndf1_sorted = df1_sorted.loc[idx]\\nidx = df1_sorted.index.intersection(df3_sorted.index)\\ndf1_sorted = df1_sorted.loc[idx]\\nidx = df1_sorted.index.intersection(df4_sorted.index)\\n\\ndf2_sorted = df2_sorted.loc[idx]\\ndf1_sorted = df1_sorted.loc[idx]\\ndf3_sorted = df3_sorted.loc[idx]\\ndf4_sorted = df4_sorted.loc[idx]\\nprint(idx)'"
      ]
     },
     "execution_count": 6,
     "metadata": {},
     "output_type": "execute_result"
    }
   ],
   "source": [
    "#keep users that appears in every time stamp\n",
    "'''idx = df1_sorted.index.intersection(df2_sorted.index)\n",
    "df1_sorted = df1_sorted.loc[idx]\n",
    "idx = df1_sorted.index.intersection(df3_sorted.index)\n",
    "df1_sorted = df1_sorted.loc[idx]\n",
    "idx = df1_sorted.index.intersection(df4_sorted.index)\n",
    "\n",
    "df2_sorted = df2_sorted.loc[idx]\n",
    "df1_sorted = df1_sorted.loc[idx]\n",
    "df3_sorted = df3_sorted.loc[idx]\n",
    "df4_sorted = df4_sorted.loc[idx]\n",
    "print(idx)'''"
   ]
  },
  {
   "cell_type": "code",
   "execution_count": 7,
   "id": "f570d6bd",
   "metadata": {},
   "outputs": [],
   "source": [
    "#count how many users are in each bin at each timestamp\n",
    "df1_dict_count=dict(Counter(df1_dict.values()))\n",
    "df2_dict_count=dict(Counter(df2_dict.values()))\n",
    "df3_dict_count=dict(Counter(df3_dict.values()))\n",
    "df4_dict_count=dict(Counter(df4_dict.values()))"
   ]
  },
  {
   "cell_type": "code",
   "execution_count": 8,
   "id": "3ded0306",
   "metadata": {},
   "outputs": [],
   "source": [
    "#list with size of every bin at each timestamp\n",
    "count_nodes=[df1_dict_count[0],df1_dict_count[0.25],df1_dict_count[0.5],df1_dict_count[1],\n",
    "               df2_dict_count[0],df2_dict_count[0.25],df2_dict_count[0.5],df2_dict_count[1],\n",
    "               df3_dict_count[0],df3_dict_count[0.25],df3_dict_count[0.5],df3_dict_count[1],\n",
    "               df4_dict_count[0],df4_dict_count[0.25],df4_dict_count[0.5],df4_dict_count[1]\n",
    "              ]"
   ]
  },
  {
   "cell_type": "code",
   "execution_count": 9,
   "id": "27be8c98",
   "metadata": {},
   "outputs": [],
   "source": [
    "def dict_compare(d1, d2):\n",
    "    '''Function that compare two dictionaries of the form user:label and return\n",
    "    a dictionary of the form (b1,b2): N, where N indicates the number of users \n",
    "    that moved from label b1 to label b2 (binned).'''\n",
    "    #make sure to have unique values\n",
    "    d1_keys = set(d1.keys())\n",
    "    d2_keys = set(d2.keys())    \n",
    "    \n",
    "    #get only shared keys, i.e. users that are in both timestamps\n",
    "    shared_keys = d1_keys.intersection(d2_keys)\n",
    "    #create temporary dictionary that indicates the movement of user o from label d1[o] to d2[o]\n",
    "    modified = {o :(d1[o], d2[o]) for o in shared_keys} \n",
    "   \n",
    "    #get list of the label movements in the form [(0,0),(0,0.5),etc...]\n",
    "    modified=list(modified.values())\n",
    "\n",
    "    #create a dictionary that counts how many changes there has been\n",
    "    ao_dict=dict(Counter(modified))\n",
    "    kk=[0,0.25,0.5,1]\n",
    "    for i in kk:\n",
    "        for j in kk:\n",
    "            #initialize empty values of the dictionary if there is no movement from i to j\n",
    "            ao_dict.setdefault((i,j), 0)\n",
    "\n",
    "        \n",
    "    return ao_dict"
   ]
  },
  {
   "cell_type": "code",
   "execution_count": 10,
   "id": "be9324ee",
   "metadata": {},
   "outputs": [],
   "source": [
    "#compare time stamps 1-2, 2-3, 3-4\n",
    "t01=dict_compare(df1_dict,df2_dict)\n",
    "t12=dict_compare(df2_dict,df3_dict)\n",
    "t23=dict_compare(df3_dict,df4_dict)"
   ]
  },
  {
   "cell_type": "code",
   "execution_count": 11,
   "id": "c532d90f",
   "metadata": {},
   "outputs": [
    {
     "data": {
      "application/vnd.plotly.v1+json": {
       "config": {
        "linkText": "Export to plot.ly",
        "plotlyServerURL": "https://plot.ly",
        "showLink": false
       },
       "data": [
        {
         "arrangement": "snap",
         "domain": {
          "x": [
           0,
           1
          ],
          "y": [
           0,
           1
          ]
         },
         "link": {
          "color": [
           "rgba(5, 31, 223, 0.15)",
           "rgba(5, 31, 223, 0.15)",
           "rgba(5, 31, 223, 0.15)",
           "rgba(5, 31, 223, 0.15)",
           "rgba(170, 230, 242, 0.66)",
           "rgba(170, 230, 242, 0.66)",
           "rgba(170, 230, 242, 0.66)",
           "rgba(170, 230, 242, 0.66)",
           "rgba(239, 203, 26, 0.18)",
           "rgba(239, 203, 26, 0.18)",
           "rgba(239, 203, 26, 0.18)",
           "rgba(239, 203, 26, 0.18)",
           "rgba(253,227,212,1",
           "rgba(253,227,212,1",
           "rgba(253,227,212,1",
           "rgba(253,227,212,1",
           "rgba(5, 31, 223, 0.15)",
           "rgba(5, 31, 223, 0.15)",
           "rgba(5, 31, 223, 0.15)",
           "rgba(5, 31, 223, 0.15)",
           "rgba(170, 230, 242, 0.66)",
           "rgba(170, 230, 242, 0.66)",
           "rgba(170, 230, 242, 0.66)",
           "rgba(170, 230, 242, 0.66)",
           "rgba(239, 203, 26, 0.18)",
           "rgba(239, 203, 26, 0.18)",
           "rgba(239, 203, 26, 0.18)",
           "rgba(239, 203, 26, 0.18)",
           "rgba(253,227,212,1",
           "rgba(253,227,212,1",
           "rgba(253,227,212,1",
           "rgba(253,227,212,1",
           "rgba(5, 31, 223, 0.15)",
           "rgba(5, 31, 223, 0.15)",
           "rgba(5, 31, 223, 0.15)",
           "rgba(5, 31, 223, 0.15)",
           "rgba(170, 230, 242, 0.66)",
           "rgba(170, 230, 242, 0.66)",
           "rgba(170, 230, 242, 0.66)",
           "rgba(170, 230, 242, 0.66)",
           "rgba(239, 203, 26, 0.18)",
           "rgba(239, 203, 26, 0.18)",
           "rgba(239, 203, 26, 0.18)",
           "rgba(239, 203, 26, 0.18)",
           "rgba(253,227,212,1",
           "rgba(253,227,212,1",
           "rgba(253,227,212,1",
           "rgba(253,227,212,1"
          ],
          "source": [
           0,
           0,
           0,
           0,
           1,
           1,
           1,
           1,
           2,
           2,
           2,
           2,
           3,
           3,
           3,
           3,
           4,
           4,
           4,
           4,
           5,
           5,
           5,
           5,
           6,
           6,
           6,
           6,
           7,
           7,
           7,
           7,
           8,
           8,
           8,
           8,
           9,
           9,
           9,
           9,
           10,
           10,
           10,
           10,
           11,
           11,
           11,
           11
          ],
          "target": [
           4,
           5,
           6,
           7,
           4,
           5,
           6,
           7,
           4,
           5,
           6,
           7,
           4,
           5,
           6,
           7,
           8,
           9,
           10,
           11,
           8,
           9,
           10,
           11,
           8,
           9,
           10,
           11,
           8,
           9,
           10,
           11,
           12,
           13,
           14,
           15,
           12,
           13,
           14,
           15,
           12,
           13,
           14,
           15,
           12,
           13,
           14,
           15
          ],
          "value": [
           615,
           173,
           292,
           590,
           169,
           115,
           137,
           165,
           288,
           118,
           214,
           312,
           525,
           123,
           280,
           774,
           463,
           68,
           154,
           357,
           188,
           47,
           84,
           129,
           266,
           66,
           158,
           230,
           393,
           54,
           196,
           550,
           439,
           127,
           255,
           397,
           71,
           62,
           68,
           51,
           150,
           84,
           157,
           193,
           392,
           114,
           280,
           565
          ]
         },
         "node": {
          "color": [
           "#000793",
           "#49D8E8",
           "#EFCB1A",
           "#E80C0C",
           "#000793",
           "#49D8E8",
           "#EFCB1A",
           "#E80C0C",
           "#000793",
           "#49D8E8",
           "#EFCB1A",
           "#E80C0C",
           "#000793",
           "#49D8E8",
           "#EFCB1A",
           "#E80C0C"
          ],
          "label": [
           "0-0.25",
           "0.25-0.5",
           "0.5-0.75",
           "0.75-1",
           "0-0.25",
           "0.25-0.5",
           "0.5-0.75",
           "0.75-1",
           "0-0.25",
           "0.25-0.5",
           "0.5-0.75",
           "0.75-1",
           "0-0.25",
           "0.25-0.5",
           "0.5-0.75",
           "0.75-1"
          ],
          "line": {
           "color": "black",
           "value": [
            6719,
            1101,
            2432,
            7376,
            6407,
            1038,
            2358,
            7829,
            4007,
            413,
            1184,
            4595,
            6569,
            1066,
            2787,
            7929
           ],
           "width": 0
          },
          "pad": 10,
          "value": [
           6719,
           1101,
           2432,
           7376,
           6407,
           1038,
           2358,
           7829,
           4007,
           413,
           1184,
           4595,
           6569,
           1066,
           2787,
           7929
          ],
          "x": [
           0.001,
           0.001,
           0.001,
           0.001,
           0.33,
           0.33,
           0.33,
           0.33,
           0.66,
           0.66,
           0.66,
           0.66,
           0.99,
           0.99,
           0.99,
           0.99
          ],
          "y": [
           0.001,
           0.3,
           0.6,
           0.9,
           0.001,
           0.3,
           0.6,
           0.9,
           0.001,
           0.3,
           0.6,
           0.9,
           0.001,
           0.3,
           0.6,
           0.9
          ]
         },
         "orientation": "h",
         "type": "sankey",
         "valueformat": ".0f"
        }
       ],
       "layout": {
        "font": {
         "size": 10
        },
        "height": 772,
        "title": "Sankey Diagram of 4 temporal snapshots"
       }
      },
      "text/html": [
       "<div>                            <div id=\"89ab7409-851c-43d7-9ea3-113875497ccf\" class=\"plotly-graph-div\" style=\"height:772px; width:100%;\"></div>            <script type=\"text/javascript\">                require([\"plotly\"], function(Plotly) {                    window.PLOTLYENV=window.PLOTLYENV || {};                                    if (document.getElementById(\"89ab7409-851c-43d7-9ea3-113875497ccf\")) {                    Plotly.newPlot(                        \"89ab7409-851c-43d7-9ea3-113875497ccf\",                        [{\"type\":\"sankey\",\"arrangement\":\"snap\",\"domain\":{\"x\":[0,1],\"y\":[0,1]},\"orientation\":\"h\",\"valueformat\":\".0f\",\"node\":{\"pad\":10,\"line\":{\"color\":\"black\",\"width\":0,\"value\":[6719,1101,2432,7376,6407,1038,2358,7829,4007,413,1184,4595,6569,1066,2787,7929]},\"value\":[6719,1101,2432,7376,6407,1038,2358,7829,4007,413,1184,4595,6569,1066,2787,7929],\"label\":[\"0-0.25\",\"0.25-0.5\",\"0.5-0.75\",\"0.75-1\",\"0-0.25\",\"0.25-0.5\",\"0.5-0.75\",\"0.75-1\",\"0-0.25\",\"0.25-0.5\",\"0.5-0.75\",\"0.75-1\",\"0-0.25\",\"0.25-0.5\",\"0.5-0.75\",\"0.75-1\"],\"y\":[0.001,0.3,0.6,0.9,0.001,0.3,0.6,0.9,0.001,0.3,0.6,0.9,0.001,0.3,0.6,0.9],\"x\":[0.001,0.001,0.001,0.001,0.33,0.33,0.33,0.33,0.66,0.66,0.66,0.66,0.99,0.99,0.99,0.99],\"color\":[\"#000793\",\"#49D8E8\",\"#EFCB1A\",\"#E80C0C\",\"#000793\",\"#49D8E8\",\"#EFCB1A\",\"#E80C0C\",\"#000793\",\"#49D8E8\",\"#EFCB1A\",\"#E80C0C\",\"#000793\",\"#49D8E8\",\"#EFCB1A\",\"#E80C0C\"]},\"link\":{\"source\":[0,0,0,0,1,1,1,1,2,2,2,2,3,3,3,3,4,4,4,4,5,5,5,5,6,6,6,6,7,7,7,7,8,8,8,8,9,9,9,9,10,10,10,10,11,11,11,11],\"target\":[4,5,6,7,4,5,6,7,4,5,6,7,4,5,6,7,8,9,10,11,8,9,10,11,8,9,10,11,8,9,10,11,12,13,14,15,12,13,14,15,12,13,14,15,12,13,14,15],\"value\":[615,173,292,590,169,115,137,165,288,118,214,312,525,123,280,774,463,68,154,357,188,47,84,129,266,66,158,230,393,54,196,550,439,127,255,397,71,62,68,51,150,84,157,193,392,114,280,565],\"color\":[\"rgba(5, 31, 223, 0.15)\",\"rgba(5, 31, 223, 0.15)\",\"rgba(5, 31, 223, 0.15)\",\"rgba(5, 31, 223, 0.15)\",\"rgba(170, 230, 242, 0.66)\",\"rgba(170, 230, 242, 0.66)\",\"rgba(170, 230, 242, 0.66)\",\"rgba(170, 230, 242, 0.66)\",\"rgba(239, 203, 26, 0.18)\",\"rgba(239, 203, 26, 0.18)\",\"rgba(239, 203, 26, 0.18)\",\"rgba(239, 203, 26, 0.18)\",\"rgba(253,227,212,1\",\"rgba(253,227,212,1\",\"rgba(253,227,212,1\",\"rgba(253,227,212,1\",\"rgba(5, 31, 223, 0.15)\",\"rgba(5, 31, 223, 0.15)\",\"rgba(5, 31, 223, 0.15)\",\"rgba(5, 31, 223, 0.15)\",\"rgba(170, 230, 242, 0.66)\",\"rgba(170, 230, 242, 0.66)\",\"rgba(170, 230, 242, 0.66)\",\"rgba(170, 230, 242, 0.66)\",\"rgba(239, 203, 26, 0.18)\",\"rgba(239, 203, 26, 0.18)\",\"rgba(239, 203, 26, 0.18)\",\"rgba(239, 203, 26, 0.18)\",\"rgba(253,227,212,1\",\"rgba(253,227,212,1\",\"rgba(253,227,212,1\",\"rgba(253,227,212,1\",\"rgba(5, 31, 223, 0.15)\",\"rgba(5, 31, 223, 0.15)\",\"rgba(5, 31, 223, 0.15)\",\"rgba(5, 31, 223, 0.15)\",\"rgba(170, 230, 242, 0.66)\",\"rgba(170, 230, 242, 0.66)\",\"rgba(170, 230, 242, 0.66)\",\"rgba(170, 230, 242, 0.66)\",\"rgba(239, 203, 26, 0.18)\",\"rgba(239, 203, 26, 0.18)\",\"rgba(239, 203, 26, 0.18)\",\"rgba(239, 203, 26, 0.18)\",\"rgba(253,227,212,1\",\"rgba(253,227,212,1\",\"rgba(253,227,212,1\",\"rgba(253,227,212,1\"]}}],                        {\"title\":\"Sankey Diagram of 4 temporal snapshots\",\"height\":772,\"font\":{\"size\":10}},                        {\"responsive\": true}                    ).then(function(){\n",
       "                            \n",
       "var gd = document.getElementById('89ab7409-851c-43d7-9ea3-113875497ccf');\n",
       "var x = new MutationObserver(function (mutations, observer) {{\n",
       "        var display = window.getComputedStyle(gd).display;\n",
       "        if (!display || display === 'none') {{\n",
       "            console.log([gd, 'removed!']);\n",
       "            Plotly.purge(gd);\n",
       "            observer.disconnect();\n",
       "        }}\n",
       "}});\n",
       "\n",
       "// Listen for the removal of the full notebook cells\n",
       "var notebookContainer = gd.closest('#notebook-container');\n",
       "if (notebookContainer) {{\n",
       "    x.observe(notebookContainer, {childList: true});\n",
       "}}\n",
       "\n",
       "// Listen for the clearing of the current output cell\n",
       "var outputEl = gd.closest('.output');\n",
       "if (outputEl) {{\n",
       "    x.observe(outputEl, {childList: true});\n",
       "}}\n",
       "\n",
       "                        })                };                });            </script>        </div>"
      ]
     },
     "metadata": {},
     "output_type": "display_data"
    }
   ],
   "source": [
    "#create Sankey plot\n",
    "\n",
    "\n",
    "# Nodes\n",
    "nodes = [['ID', 'Label', 'Color'],\n",
    "        [0,'0-0.25','#000793'], #time 0\n",
    "        [1,'0.25-0.5','#49D8E8'],\n",
    "        [2,'0.5-0.75','#EFCB1A'],\n",
    "        [3,'0.75-1','#E80C0C'],\n",
    "        [4,'0-0.25','#000793'], #time 1\n",
    "        [5,'0.25-0.5','#49D8E8'],\n",
    "        [6,'0.5-0.75','#EFCB1A'],\n",
    "        [7,'0.75-1','#E80C0C'],\n",
    "        [8,'0-0.25','#000793'], #time 2\n",
    "        [9,'0.25-0.5','#49D8E8'],\n",
    "        [10,'0.5-0.75','#EFCB1A'],\n",
    "        [11,'0.75-1','#E80C0C'],\n",
    "        [12,'0-0.25','#000793'], #time 3\n",
    "        [13,'0.25-0.5','#49D8E8'],\n",
    "        [14,'0.5-0.75','#EFCB1A'],\n",
    "        [15,'0.75-1','#E80C0C'],\n",
    "       ]\n",
    "\n",
    "\n",
    "\n",
    "# define list of links \n",
    "links = [['Source','Target','Value','Link Color'],\n",
    "\n",
    "        # from time 0 to time 1\n",
    "        [0,4,t01[0,0],'rgba(5, 31, 223, 0.15)'], #from node 0 (0 at time 0) to node 4 (0 at time 1)\n",
    "        [0,5,t01[0,0.25],'rgba(5, 31, 223, 0.15)'], #from node 0 (0 at time 0) to node 5 (0.25 at time 1)\n",
    "        [0,6,t01[0,0.5],'rgba(5, 31, 223, 0.15)'], #and so on...\n",
    "        [0,7,t01[0,1],'rgba(5, 31, 223, 0.15)'],\n",
    "\n",
    "        [1,4,t01[0.25,0],'rgba(170, 230, 242, 0.66)'],\n",
    "        [1,5,t01[0.25,0.25],'rgba(170, 230, 242, 0.66)'],\n",
    "        [1,6,t01[0.25,0.5],'rgba(170, 230, 242, 0.66)'],\n",
    "        [1,7,t01[0.25,1],'rgba(170, 230, 242, 0.66)'],\n",
    "\n",
    "        [2,4,t01[0.5,0],'rgba(239, 203, 26, 0.18)'],\n",
    "        [2,5,t01[0.5,0.25],'rgba(239, 203, 26, 0.18)'],\n",
    "        [2,6,t01[0.5,0.5],'rgba(239, 203, 26, 0.18)'],\n",
    "        [2,7,t01[0.5,1],'rgba(239, 203, 26, 0.18)'],\n",
    "         \n",
    "        [3,4,t01[1,0],'rgba(253,227,212,1'],\n",
    "        [3,5,t01[1,0.25],'rgba(253,227,212,1'],\n",
    "        [3,6,t01[1,0.5],'rgba(253,227,212,1'],\n",
    "        [3,7,t01[1,1],'rgba(253,227,212,1'],\n",
    "         \n",
    "         \n",
    "        # from time 1 to time 2\n",
    "        [4,8,t12[0,0],'rgba(5, 31, 223, 0.15)'],\n",
    "        [4,9,t12[0,0.25],'rgba(5, 31, 223, 0.15)'],\n",
    "        [4,10,t12[0,0.5],'rgba(5, 31, 223, 0.15)'],\n",
    "        [4,11,t12[0,1],'rgba(5, 31, 223, 0.15)'],\n",
    "\n",
    "        [5,8,t12[0.25,0],'rgba(170, 230, 242, 0.66)'],\n",
    "        [5,9,t12[0.25,0.25],'rgba(170, 230, 242, 0.66)'],\n",
    "        [5,10,t12[0.25,0.5],'rgba(170, 230, 242, 0.66)'],\n",
    "        [5,11,t12[0.25,1],'rgba(170, 230, 242, 0.66)'],\n",
    "\n",
    "        [6,8,t12[0.5,0],'rgba(239, 203, 26, 0.18)'],\n",
    "        [6,9,t12[0.5,0.25],'rgba(239, 203, 26, 0.18)'],\n",
    "        [6,10,t12[0.5,0.5],'rgba(239, 203, 26, 0.18)'],\n",
    "        [6,11,t12[0.5,1],'rgba(239, 203, 26, 0.18)'],\n",
    "         \n",
    "        [7,8,t12[1,0],'rgba(253,227,212,1'],\n",
    "        [7,9,t12[1,0.25],'rgba(253,227,212,1'],\n",
    "        [7,10,t12[1,0.5],'rgba(253,227,212,1'],\n",
    "        [7,11,t12[1,1],'rgba(253,227,212,1'],\n",
    "         \n",
    "         #from time 2 to time 3\n",
    "         \n",
    "        [8,12,t23[0,0],'rgba(5, 31, 223, 0.15)'],\n",
    "        [8,13,t23[0,0.25],'rgba(5, 31, 223, 0.15)'],\n",
    "        [8,14,t23[0,0.5],'rgba(5, 31, 223, 0.15)'],\n",
    "        [8,15,t23[0,1],'rgba(5, 31, 223, 0.15)'],\n",
    "        \n",
    "         \n",
    "        [9,12,t23[0.25,0],'rgba(170, 230, 242, 0.66)'],\n",
    "        [9,13,t23[0.25,0.25],'rgba(170, 230, 242, 0.66)'],\n",
    "        [9,14,t23[0.25,0.5],'rgba(170, 230, 242, 0.66)'],\n",
    "        [9,15,t23[0.25,1],'rgba(170, 230, 242, 0.66)'],\n",
    "         \n",
    "         \n",
    "        [10,12,t23[0.5,0],'rgba(239, 203, 26, 0.18)'],\n",
    "        [10,13,t23[0.5,0.25],'rgba(239, 203, 26, 0.18)'],\n",
    "        [10,14,t23[0.5,0.5],'rgba(239, 203, 26, 0.18)'],\n",
    "        [10,15,t23[0.5,1],'rgba(239, 203, 26, 0.18)'],\n",
    "         \n",
    "        [11,12,t23[1,0],'rgba(253,227,212,1'],\n",
    "        [11,13,t23[1,0.25],'rgba(253,227,212,1'],\n",
    "        [11,14,t23[1,0.5],'rgba(253,227,212,1'],\n",
    "        [11,15,t23[1,1],'rgba(253,227,212,1'],]\n",
    "\n",
    "\n",
    "# Retrieve headers and build dataframes\n",
    "nodes_headers = nodes.pop(0)\n",
    "links_headers = links.pop(0)\n",
    "df_nodes = pd.DataFrame(nodes, columns = nodes_headers)\n",
    "df_links = pd.DataFrame(links, columns = links_headers)\n",
    "df_nodes['counts']=count_nodes\n",
    "\n",
    "# Sankey plot setup\n",
    "data_trace = dict(\n",
    "    type='sankey',\n",
    "    arrangement = \"snap\",\n",
    "    domain = dict(\n",
    "      x =  [0,1],\n",
    "      y =  [0,1]\n",
    "    ),\n",
    "    orientation = \"h\",\n",
    "    valueformat = \".0f\",\n",
    "    node = dict(\n",
    "      pad = 10,\n",
    "    # thickness = 30,\n",
    "      line = dict(\n",
    "        color = \"black\",\n",
    "        width = 0,\n",
    "        value=df_nodes['counts'].dropna(axis=0, how='any')\n",
    "      ),\n",
    "      value=df_nodes['counts'].dropna(axis=0, how='any'),\n",
    "      label =  df_nodes['Label'].dropna(axis=0, how='any'),\n",
    "      y=[0.001,0.3,0.6,0.9,0.001,0.3,0.6,0.9,0.001,0.3,0.6,0.9,0.001,0.3,0.6,0.9],\n",
    "      x=[0.001,0.001,0.001,0.001,0.33,0.33,0.33,0.33,0.66,0.66,0.66,0.66,0.99,0.99,0.99,0.99],\n",
    "      color = df_nodes['Color'],\n",
    "    ),\n",
    "    link = dict(\n",
    "      source = df_links['Source'].dropna(axis=0, how='any'),\n",
    "      target = df_links['Target'].dropna(axis=0, how='any'),\n",
    "      value = df_links['Value'].dropna(axis=0, how='any'),\n",
    "      color = df_links['Link Color'].dropna(axis=0, how='any'),\n",
    "  )\n",
    ")\n",
    "\n",
    "layout = dict(\n",
    "        title = \"Sankey Diagram of 4 temporal snapshots\",\n",
    "    height = 772,\n",
    "    font = dict(\n",
    "      size = 10),)\n",
    "\n",
    "fig = dict(data=[data_trace], layout=layout)\n",
    "iplot(fig, validate=False)"
   ]
  },
  {
   "cell_type": "code",
   "execution_count": 12,
   "id": "689b0ebb",
   "metadata": {},
   "outputs": [
    {
     "data": {
      "text/plain": [
       "0     6719\n",
       "1     1101\n",
       "2     2432\n",
       "3     7376\n",
       "4     6407\n",
       "5     1038\n",
       "6     2358\n",
       "7     7829\n",
       "8     4007\n",
       "9      413\n",
       "10    1184\n",
       "11    4595\n",
       "12    6569\n",
       "13    1066\n",
       "14    2787\n",
       "15    7929\n",
       "Name: counts, dtype: int64"
      ]
     },
     "execution_count": 12,
     "metadata": {},
     "output_type": "execute_result"
    }
   ],
   "source": [
    "df_nodes['counts'].dropna(axis=0, how='any')"
   ]
  },
  {
   "cell_type": "code",
   "execution_count": 13,
   "id": "80afc7d7",
   "metadata": {},
   "outputs": [],
   "source": [
    "def scale_minmax(comparison1):\n",
    "    '''Function that scale the dictionary with the min max algorithm'''\n",
    "    values = comparison1.values()\n",
    "    min_ = min(values)\n",
    "    max_ = max(values)\n",
    "\n",
    "    normalized_d = {key: ((v - min_ ) / (max_ - min_) )  for (key, v) in comparison1.items() }\n",
    "    return normalized_d"
   ]
  },
  {
   "cell_type": "code",
   "execution_count": 14,
   "id": "4497724c",
   "metadata": {},
   "outputs": [],
   "source": [
    "def normalize_to1(comparison1):    \n",
    "    '''Function that normalize the dictionary so that all the entry sum up to 1'''\n",
    "    factor=1.0/sum(comparison1.values())\n",
    "    normalized_d1 = {k: v*factor for k, v in comparison1.items() }\n",
    "    return normalized_d1"
   ]
  },
  {
   "cell_type": "markdown",
   "id": "63b11268",
   "metadata": {},
   "source": [
    "# Before and After March 2022 Comparison"
   ]
  },
  {
   "cell_type": "markdown",
   "id": "2c7fe1db",
   "metadata": {},
   "source": [
    "## With tweets regarding Ukraine"
   ]
  },
  {
   "cell_type": "code",
   "execution_count": 15,
   "id": "4b207a17",
   "metadata": {},
   "outputs": [],
   "source": [
    "#concatenate all the timestamps\n",
    "df = pd.concat([df1, df2,df3,df4])"
   ]
  },
  {
   "cell_type": "code",
   "execution_count": 16,
   "id": "72b522a2",
   "metadata": {},
   "outputs": [],
   "source": [
    "#define a split date\n",
    "split_date = datetime.date(2022,2,24)"
   ]
  },
  {
   "cell_type": "code",
   "execution_count": 17,
   "id": "988408a8",
   "metadata": {},
   "outputs": [],
   "source": [
    "#convert in format for comparison\n",
    "df['Year_Month'] = pd.to_datetime(df['Year_Month']) \n",
    "\n",
    "#split the data in before the war anda after the war\n",
    "df_before = df.loc[df['Year_Month'].dt.date<=split_date]\n",
    "\n",
    "df_after = df.loc[df['Year_Month'].dt.date>split_date]\n"
   ]
  },
  {
   "cell_type": "code",
   "execution_count": 18,
   "id": "a90d7db3",
   "metadata": {},
   "outputs": [],
   "source": [
    "#create data before and after\n",
    "df1_dict=create_data(df_before,2) #each user must write at least two tweets\n",
    "df2_dict=create_data(df_after,2)"
   ]
  },
  {
   "cell_type": "code",
   "execution_count": 19,
   "id": "ce1bfbd1",
   "metadata": {},
   "outputs": [],
   "source": [
    "#count user in each node\n",
    "df1_dict_count=dict(Counter(df1_dict.values()))\n",
    "df2_dict_count=dict(Counter(df2_dict.values()))"
   ]
  },
  {
   "cell_type": "code",
   "execution_count": 20,
   "id": "6b02ee9d",
   "metadata": {},
   "outputs": [],
   "source": [
    "#compare before and after\n",
    "t01=dict_compare(df1_dict,df2_dict)\n"
   ]
  },
  {
   "cell_type": "code",
   "execution_count": 21,
   "id": "594f67ae",
   "metadata": {
    "scrolled": false
   },
   "outputs": [
    {
     "data": {
      "application/vnd.plotly.v1+json": {
       "config": {
        "linkText": "Export to plot.ly",
        "plotlyServerURL": "https://plot.ly",
        "showLink": false
       },
       "data": [
        {
         "arrangement": "snap",
         "domain": {
          "x": [
           0,
           1
          ],
          "y": [
           0,
           1
          ]
         },
         "link": {
          "color": [
           "rgba(5, 31, 223, 0.15)",
           "rgba(5, 31, 223, 0.15)",
           "rgba(5, 31, 223, 0.15)",
           "rgba(5, 31, 223, 0.15)",
           "rgba(170, 230, 242, 0.66)",
           "rgba(170, 230, 242, 0.66)",
           "rgba(170, 230, 242, 0.66)",
           "rgba(170, 230, 242, 0.66)",
           "rgba(239, 203, 26, 0.18)",
           "rgba(239, 203, 26, 0.18)",
           "rgba(239, 203, 26, 0.18)",
           "rgba(239, 203, 26, 0.18)",
           "rgba(253,227,212,1",
           "rgba(253,227,212,1",
           "rgba(253,227,212,1",
           "rgba(253,227,212,1"
          ],
          "source": [
           0,
           0,
           0,
           0,
           1,
           1,
           1,
           1,
           2,
           2,
           2,
           2,
           3,
           3,
           3,
           3
          ],
          "target": [
           4,
           5,
           6,
           7,
           4,
           5,
           6,
           7,
           4,
           5,
           6,
           7,
           4,
           5,
           6,
           7
          ],
          "value": [
           99,
           82,
           141,
           47,
           149,
           158,
           272,
           112,
           178,
           158,
           422,
           224,
           57,
           78,
           205,
           138
          ]
         },
         "node": {
          "color": [
           "#000793",
           "#49D8E8",
           "#EFCB1A",
           "#E80C0C",
           "#000793",
           "#49D8E8",
           "#EFCB1A",
           "#E80C0C"
          ],
          "label": [
           "0-0.25",
           "0.25-0.5",
           "0.5-0.75",
           "0.75-1",
           "0-0.25",
           "0.25-0.5",
           "0.5-0.75",
           "0.75-1"
          ],
          "line": {
           "color": "black",
           "width": 0
          },
          "pad": 10,
          "x": [
           0.001,
           0.001,
           0.001,
           0.001,
           0.99,
           0.99,
           0.99,
           0.99
          ],
          "y": [
           0.001,
           0.3,
           0.6,
           0.9,
           0.001,
           0.3,
           0.6,
           0.9
          ]
         },
         "orientation": "h",
         "type": "sankey",
         "valueformat": ".0f"
        }
       ],
       "layout": {
        "font": {
         "size": 10
        },
        "height": 772,
        "title": "Sankey Diagram, comparing before and after the war"
       }
      },
      "text/html": [
       "<div>                            <div id=\"70edd426-33f6-4d7d-9e93-f83188aba094\" class=\"plotly-graph-div\" style=\"height:772px; width:100%;\"></div>            <script type=\"text/javascript\">                require([\"plotly\"], function(Plotly) {                    window.PLOTLYENV=window.PLOTLYENV || {};                                    if (document.getElementById(\"70edd426-33f6-4d7d-9e93-f83188aba094\")) {                    Plotly.newPlot(                        \"70edd426-33f6-4d7d-9e93-f83188aba094\",                        [{\"type\":\"sankey\",\"arrangement\":\"snap\",\"domain\":{\"x\":[0,1],\"y\":[0,1]},\"orientation\":\"h\",\"valueformat\":\".0f\",\"node\":{\"pad\":10,\"line\":{\"color\":\"black\",\"width\":0},\"label\":[\"0-0.25\",\"0.25-0.5\",\"0.5-0.75\",\"0.75-1\",\"0-0.25\",\"0.25-0.5\",\"0.5-0.75\",\"0.75-1\"],\"y\":[0.001,0.3,0.6,0.9,0.001,0.3,0.6,0.9],\"x\":[0.001,0.001,0.001,0.001,0.99,0.99,0.99,0.99],\"color\":[\"#000793\",\"#49D8E8\",\"#EFCB1A\",\"#E80C0C\",\"#000793\",\"#49D8E8\",\"#EFCB1A\",\"#E80C0C\"]},\"link\":{\"source\":[0,0,0,0,1,1,1,1,2,2,2,2,3,3,3,3],\"target\":[4,5,6,7,4,5,6,7,4,5,6,7,4,5,6,7],\"value\":[99,82,141,47,149,158,272,112,178,158,422,224,57,78,205,138],\"color\":[\"rgba(5, 31, 223, 0.15)\",\"rgba(5, 31, 223, 0.15)\",\"rgba(5, 31, 223, 0.15)\",\"rgba(5, 31, 223, 0.15)\",\"rgba(170, 230, 242, 0.66)\",\"rgba(170, 230, 242, 0.66)\",\"rgba(170, 230, 242, 0.66)\",\"rgba(170, 230, 242, 0.66)\",\"rgba(239, 203, 26, 0.18)\",\"rgba(239, 203, 26, 0.18)\",\"rgba(239, 203, 26, 0.18)\",\"rgba(239, 203, 26, 0.18)\",\"rgba(253,227,212,1\",\"rgba(253,227,212,1\",\"rgba(253,227,212,1\",\"rgba(253,227,212,1\"]}}],                        {\"title\":\"Sankey Diagram, comparing before and after the war\",\"height\":772,\"font\":{\"size\":10}},                        {\"responsive\": true}                    ).then(function(){\n",
       "                            \n",
       "var gd = document.getElementById('70edd426-33f6-4d7d-9e93-f83188aba094');\n",
       "var x = new MutationObserver(function (mutations, observer) {{\n",
       "        var display = window.getComputedStyle(gd).display;\n",
       "        if (!display || display === 'none') {{\n",
       "            console.log([gd, 'removed!']);\n",
       "            Plotly.purge(gd);\n",
       "            observer.disconnect();\n",
       "        }}\n",
       "}});\n",
       "\n",
       "// Listen for the removal of the full notebook cells\n",
       "var notebookContainer = gd.closest('#notebook-container');\n",
       "if (notebookContainer) {{\n",
       "    x.observe(notebookContainer, {childList: true});\n",
       "}}\n",
       "\n",
       "// Listen for the clearing of the current output cell\n",
       "var outputEl = gd.closest('.output');\n",
       "if (outputEl) {{\n",
       "    x.observe(outputEl, {childList: true});\n",
       "}}\n",
       "\n",
       "                        })                };                });            </script>        </div>"
      ]
     },
     "metadata": {},
     "output_type": "display_data"
    }
   ],
   "source": [
    "# create sankey plot, as above\n",
    "links = [['Source','Target','Value','Link Color'],\n",
    "\n",
    "        # tempo 0 al tempo 1\n",
    "        [0,4,t01[0,0],'rgba(5, 31, 223, 0.15)'],\n",
    "        [0,5,t01[0,0.25],'rgba(5, 31, 223, 0.15)'],\n",
    "        [0,6,t01[0,0.5],'rgba(5, 31, 223, 0.15)'],\n",
    "        [0,7,t01[0,1],'rgba(5, 31, 223, 0.15)'],\n",
    "\n",
    "        [1,4,t01[0.25,0],'rgba(170, 230, 242, 0.66)'],\n",
    "        [1,5,t01[0.25,0.25],'rgba(170, 230, 242, 0.66)'],\n",
    "        [1,6,t01[0.25,0.5],'rgba(170, 230, 242, 0.66)'],\n",
    "        [1,7,t01[0.25,1],'rgba(170, 230, 242, 0.66)'],\n",
    "\n",
    "        [2,4,t01[0.5,0],'rgba(239, 203, 26, 0.18)'],\n",
    "        [2,5,t01[0.5,0.25],'rgba(239, 203, 26, 0.18)'],\n",
    "        [2,6,t01[0.5,0.5],'rgba(239, 203, 26, 0.18)'],\n",
    "        [2,7,t01[0.5,1],'rgba(239, 203, 26, 0.18)'],\n",
    "         \n",
    "        [3,4,t01[1,0],'rgba(253,227,212,1'],\n",
    "        [3,5,t01[1,0.25],'rgba(253,227,212,1'],\n",
    "        [3,6,t01[1,0.5],'rgba(253,227,212,1'],\n",
    "        [3,7,t01[1,1],'rgba(253,227,212,1'],\n",
    "        ]\n",
    "         \n",
    "\n",
    "# Nodes & links\n",
    "nodes = [['ID', 'Label', 'Color'],\n",
    "        [0,'0-0.25','#000793'],\n",
    "        [1,'0.25-0.5','#49D8E8'],\n",
    "        [2,'0.5-0.75','#EFCB1A'],\n",
    "        [3,'0.75-1','#E80C0C'],\n",
    "        [4,'0-0.25','#000793'],\n",
    "        [5,'0.25-0.5','#49D8E8'],\n",
    "        [6,'0.5-0.75','#EFCB1A'],\n",
    "        [7,'0.75-1','#E80C0C'],\n",
    "        ]\n",
    "\n",
    "# Retrieve headers and build dataframes\n",
    "nodes_headers = nodes.pop(0)\n",
    "links_headers = links.pop(0)\n",
    "df_nodes = pd.DataFrame(nodes, columns = nodes_headers)\n",
    "df_links = pd.DataFrame(links, columns = links_headers)\n",
    "#df_nodes['counts']=count_nodes\n",
    "# Sankey plot setup\n",
    "data_trace = dict(\n",
    "    type='sankey',\n",
    "    arrangement = \"snap\",\n",
    "    domain = dict(\n",
    "      x =  [0,1],\n",
    "      y =  [0,1]\n",
    "    ),\n",
    "    orientation = \"h\",\n",
    "    valueformat = \".0f\",\n",
    "    node = dict(\n",
    "      pad = 10,\n",
    "    # thickness = 30,\n",
    "      line = dict(\n",
    "        color = \"black\",\n",
    "        width = 0,\n",
    "        #value=df_nodes['counts'].dropna(axis=0, how='any')\n",
    "      ),\n",
    "      #value=df_nodes['counts'].dropna(axis=0, how='any'),\n",
    "      label =  df_nodes['Label'].dropna(axis=0, how='any'),\n",
    "      y=[0.001,0.3,0.6,0.9,0.001,0.3,0.6,0.9],\n",
    "      x=[0.001,0.001,0.001,0.001,0.99,0.99,0.99,0.99],\n",
    "      color = df_nodes['Color'],\n",
    "    ),\n",
    "    link = dict(\n",
    "      source = df_links['Source'].dropna(axis=0, how='any'),\n",
    "      target = df_links['Target'].dropna(axis=0, how='any'),\n",
    "      value = df_links['Value'].dropna(axis=0, how='any'),\n",
    "      color = df_links['Link Color'].dropna(axis=0, how='any'),\n",
    "  )\n",
    ")\n",
    "\n",
    "layout = dict(\n",
    "        title = \"Sankey Diagram, comparing before and after the war\",\n",
    "    height = 772,\n",
    "    font = dict(\n",
    "      size = 10),)\n",
    "\n",
    "fig = dict(data=[data_trace], layout=layout)\n",
    "iplot(fig, validate=False)"
   ]
  },
  {
   "cell_type": "markdown",
   "id": "5d689160",
   "metadata": {},
   "source": [
    "## Without tweets regarding Ukraine"
   ]
  },
  {
   "cell_type": "code",
   "execution_count": 22,
   "id": "17fb8bcf",
   "metadata": {},
   "outputs": [],
   "source": [
    "df_before = df_before.loc[df_before['ukr']==0]\n",
    "\n",
    "df_after = df_after.loc[df_after['ukr']==0]"
   ]
  },
  {
   "cell_type": "code",
   "execution_count": 23,
   "id": "5b5892c3",
   "metadata": {},
   "outputs": [],
   "source": [
    "#create data before and after\n",
    "df1_dict=create_data(df_before,2) #each user must write at least two tweets\n",
    "df2_dict=create_data(df_after,2)"
   ]
  },
  {
   "cell_type": "code",
   "execution_count": 24,
   "id": "8a31dc95",
   "metadata": {},
   "outputs": [],
   "source": [
    "#count user in each node\n",
    "df1_dict_count=dict(Counter(df1_dict.values()))\n",
    "df2_dict_count=dict(Counter(df2_dict.values()))"
   ]
  },
  {
   "cell_type": "code",
   "execution_count": 25,
   "id": "2971d3d2",
   "metadata": {},
   "outputs": [],
   "source": [
    "t01=dict_compare(df1_dict,df2_dict)\n"
   ]
  },
  {
   "cell_type": "code",
   "execution_count": 26,
   "id": "6df09be1",
   "metadata": {
    "scrolled": false
   },
   "outputs": [
    {
     "data": {
      "application/vnd.plotly.v1+json": {
       "config": {
        "linkText": "Export to plot.ly",
        "plotlyServerURL": "https://plot.ly",
        "showLink": false
       },
       "data": [
        {
         "arrangement": "snap",
         "domain": {
          "x": [
           0,
           1
          ],
          "y": [
           0,
           1
          ]
         },
         "link": {
          "color": [
           "rgba(5, 31, 223, 0.15)",
           "rgba(5, 31, 223, 0.15)",
           "rgba(5, 31, 223, 0.15)",
           "rgba(5, 31, 223, 0.15)",
           "rgba(170, 230, 242, 0.66)",
           "rgba(170, 230, 242, 0.66)",
           "rgba(170, 230, 242, 0.66)",
           "rgba(170, 230, 242, 0.66)",
           "rgba(239, 203, 26, 0.18)",
           "rgba(239, 203, 26, 0.18)",
           "rgba(239, 203, 26, 0.18)",
           "rgba(239, 203, 26, 0.18)",
           "rgba(253,227,212,1",
           "rgba(253,227,212,1",
           "rgba(253,227,212,1",
           "rgba(253,227,212,1"
          ],
          "source": [
           0,
           0,
           0,
           0,
           1,
           1,
           1,
           1,
           2,
           2,
           2,
           2,
           3,
           3,
           3,
           3
          ],
          "target": [
           4,
           5,
           6,
           7,
           4,
           5,
           6,
           7,
           4,
           5,
           6,
           7,
           4,
           5,
           6,
           7
          ],
          "value": [
           101,
           79,
           137,
           46,
           147,
           153,
           271,
           110,
           176,
           162,
           402,
           219,
           59,
           76,
           196,
           133
          ]
         },
         "node": {
          "color": [
           "#000793",
           "#49D8E8",
           "#EFCB1A",
           "#E80C0C",
           "#000793",
           "#49D8E8",
           "#EFCB1A",
           "#E80C0C"
          ],
          "label": [
           "0-0.25",
           "0.25-0.5",
           "0.5-0.75",
           "0.75-1",
           "0-0.25",
           "0.25-0.5",
           "0.5-0.75",
           "0.75-1"
          ],
          "line": {
           "color": "black",
           "width": 0
          },
          "pad": 10,
          "x": [
           0.001,
           0.001,
           0.001,
           0.001,
           0.99,
           0.99,
           0.99,
           0.99
          ],
          "y": [
           0.001,
           0.3,
           0.6,
           0.9,
           0.001,
           0.3,
           0.6,
           0.9
          ]
         },
         "orientation": "h",
         "type": "sankey",
         "valueformat": ".0f"
        }
       ],
       "layout": {
        "font": {
         "size": 10
        },
        "height": 772,
        "title": "Sankey Diagram comparing before and after the war, without tweets regarding Ukraine"
       }
      },
      "text/html": [
       "<div>                            <div id=\"55387e64-b56b-4a33-b82f-9551be7fd758\" class=\"plotly-graph-div\" style=\"height:772px; width:100%;\"></div>            <script type=\"text/javascript\">                require([\"plotly\"], function(Plotly) {                    window.PLOTLYENV=window.PLOTLYENV || {};                                    if (document.getElementById(\"55387e64-b56b-4a33-b82f-9551be7fd758\")) {                    Plotly.newPlot(                        \"55387e64-b56b-4a33-b82f-9551be7fd758\",                        [{\"type\":\"sankey\",\"arrangement\":\"snap\",\"domain\":{\"x\":[0,1],\"y\":[0,1]},\"orientation\":\"h\",\"valueformat\":\".0f\",\"node\":{\"pad\":10,\"line\":{\"color\":\"black\",\"width\":0},\"label\":[\"0-0.25\",\"0.25-0.5\",\"0.5-0.75\",\"0.75-1\",\"0-0.25\",\"0.25-0.5\",\"0.5-0.75\",\"0.75-1\"],\"y\":[0.001,0.3,0.6,0.9,0.001,0.3,0.6,0.9],\"x\":[0.001,0.001,0.001,0.001,0.99,0.99,0.99,0.99],\"color\":[\"#000793\",\"#49D8E8\",\"#EFCB1A\",\"#E80C0C\",\"#000793\",\"#49D8E8\",\"#EFCB1A\",\"#E80C0C\"]},\"link\":{\"source\":[0,0,0,0,1,1,1,1,2,2,2,2,3,3,3,3],\"target\":[4,5,6,7,4,5,6,7,4,5,6,7,4,5,6,7],\"value\":[101,79,137,46,147,153,271,110,176,162,402,219,59,76,196,133],\"color\":[\"rgba(5, 31, 223, 0.15)\",\"rgba(5, 31, 223, 0.15)\",\"rgba(5, 31, 223, 0.15)\",\"rgba(5, 31, 223, 0.15)\",\"rgba(170, 230, 242, 0.66)\",\"rgba(170, 230, 242, 0.66)\",\"rgba(170, 230, 242, 0.66)\",\"rgba(170, 230, 242, 0.66)\",\"rgba(239, 203, 26, 0.18)\",\"rgba(239, 203, 26, 0.18)\",\"rgba(239, 203, 26, 0.18)\",\"rgba(239, 203, 26, 0.18)\",\"rgba(253,227,212,1\",\"rgba(253,227,212,1\",\"rgba(253,227,212,1\",\"rgba(253,227,212,1\"]}}],                        {\"title\":\"Sankey Diagram comparing before and after the war, without tweets regarding Ukraine\",\"height\":772,\"font\":{\"size\":10}},                        {\"responsive\": true}                    ).then(function(){\n",
       "                            \n",
       "var gd = document.getElementById('55387e64-b56b-4a33-b82f-9551be7fd758');\n",
       "var x = new MutationObserver(function (mutations, observer) {{\n",
       "        var display = window.getComputedStyle(gd).display;\n",
       "        if (!display || display === 'none') {{\n",
       "            console.log([gd, 'removed!']);\n",
       "            Plotly.purge(gd);\n",
       "            observer.disconnect();\n",
       "        }}\n",
       "}});\n",
       "\n",
       "// Listen for the removal of the full notebook cells\n",
       "var notebookContainer = gd.closest('#notebook-container');\n",
       "if (notebookContainer) {{\n",
       "    x.observe(notebookContainer, {childList: true});\n",
       "}}\n",
       "\n",
       "// Listen for the clearing of the current output cell\n",
       "var outputEl = gd.closest('.output');\n",
       "if (outputEl) {{\n",
       "    x.observe(outputEl, {childList: true});\n",
       "}}\n",
       "\n",
       "                        })                };                });            </script>        </div>"
      ]
     },
     "metadata": {},
     "output_type": "display_data"
    }
   ],
   "source": [
    "# create sankey plot, as above\n",
    "links = [['Source','Target','Value','Link Color'],\n",
    "\n",
    "        # tempo 0 al tempo 1\n",
    "        [0,4,t01[0,0],'rgba(5, 31, 223, 0.15)'],\n",
    "        [0,5,t01[0,0.25],'rgba(5, 31, 223, 0.15)'],\n",
    "        [0,6,t01[0,0.5],'rgba(5, 31, 223, 0.15)'],\n",
    "        [0,7,t01[0,1],'rgba(5, 31, 223, 0.15)'],\n",
    "\n",
    "        [1,4,t01[0.25,0],'rgba(170, 230, 242, 0.66)'],\n",
    "        [1,5,t01[0.25,0.25],'rgba(170, 230, 242, 0.66)'],\n",
    "        [1,6,t01[0.25,0.5],'rgba(170, 230, 242, 0.66)'],\n",
    "        [1,7,t01[0.25,1],'rgba(170, 230, 242, 0.66)'],\n",
    "\n",
    "        [2,4,t01[0.5,0],'rgba(239, 203, 26, 0.18)'],\n",
    "        [2,5,t01[0.5,0.25],'rgba(239, 203, 26, 0.18)'],\n",
    "        [2,6,t01[0.5,0.5],'rgba(239, 203, 26, 0.18)'],\n",
    "        [2,7,t01[0.5,1],'rgba(239, 203, 26, 0.18)'],\n",
    "         \n",
    "        [3,4,t01[1,0],'rgba(253,227,212,1'],\n",
    "        [3,5,t01[1,0.25],'rgba(253,227,212,1'],\n",
    "        [3,6,t01[1,0.5],'rgba(253,227,212,1'],\n",
    "        [3,7,t01[1,1],'rgba(253,227,212,1'],\n",
    "        ]\n",
    "         \n",
    "\n",
    "# Nodes & links\n",
    "nodes = [['ID', 'Label', 'Color'],\n",
    "        [0,'0-0.25','#000793'],\n",
    "        [1,'0.25-0.5','#49D8E8'],\n",
    "        [2,'0.5-0.75','#EFCB1A'],\n",
    "        [3,'0.75-1','#E80C0C'],\n",
    "        [4,'0-0.25','#000793'],\n",
    "        [5,'0.25-0.5','#49D8E8'],\n",
    "        [6,'0.5-0.75','#EFCB1A'],\n",
    "        [7,'0.75-1','#E80C0C'],\n",
    "        ]\n",
    "\n",
    "# Retrieve headers and build dataframes\n",
    "nodes_headers = nodes.pop(0)\n",
    "links_headers = links.pop(0)\n",
    "df_nodes = pd.DataFrame(nodes, columns = nodes_headers)\n",
    "df_links = pd.DataFrame(links, columns = links_headers)\n",
    "#df_nodes['counts']=count_nodes\n",
    "# Sankey plot setup\n",
    "data_trace = dict(\n",
    "    type='sankey',\n",
    "    arrangement = \"snap\",\n",
    "    domain = dict(\n",
    "      x =  [0,1],\n",
    "      y =  [0,1]\n",
    "    ),\n",
    "    orientation = \"h\",\n",
    "    valueformat = \".0f\",\n",
    "    node = dict(\n",
    "      pad = 10,\n",
    "    # thickness = 30,\n",
    "      line = dict(\n",
    "        color = \"black\",\n",
    "        width = 0,\n",
    "        #value=df_nodes['counts'].dropna(axis=0, how='any')\n",
    "      ),\n",
    "      #value=df_nodes['counts'].dropna(axis=0, how='any'),\n",
    "      label =  df_nodes['Label'].dropna(axis=0, how='any'),\n",
    "      y=[0.001,0.3,0.6,0.9,0.001,0.3,0.6,0.9],\n",
    "      x=[0.001,0.001,0.001,0.001,0.99,0.99,0.99,0.99],\n",
    "      color = df_nodes['Color'],\n",
    "    ),\n",
    "    link = dict(\n",
    "      source = df_links['Source'].dropna(axis=0, how='any'),\n",
    "      target = df_links['Target'].dropna(axis=0, how='any'),\n",
    "      value = df_links['Value'].dropna(axis=0, how='any'),\n",
    "      color = df_links['Link Color'].dropna(axis=0, how='any'),\n",
    "  )\n",
    ")\n",
    "\n",
    "layout = dict(\n",
    "        title = \"Sankey Diagram comparing before and after the war, without tweets regarding Ukraine\",\n",
    "    height = 772,\n",
    "    font = dict(\n",
    "      size = 10),)\n",
    "\n",
    "fig = dict(data=[data_trace], layout=layout)\n",
    "iplot(fig, validate=False)"
   ]
  },
  {
   "cell_type": "markdown",
   "id": "00ef0294",
   "metadata": {},
   "source": [
    "## Comparison 1 to 2 vs 3 to 4"
   ]
  },
  {
   "cell_type": "code",
   "execution_count": 27,
   "id": "76b78691",
   "metadata": {},
   "outputs": [],
   "source": [
    "df1 = pd.read_csv(\"../data_collection/data/RW_Graphs/df_S1.csv\", skipinitialspace=True, na_values='?', keep_default_na=True)\n",
    "\n",
    "df2 = pd.read_csv(\"../data_collection/data/RW_Graphs/df_S2.csv\", skipinitialspace=True, na_values='?', keep_default_na=True)\n",
    "\n",
    "df3 = pd.read_csv(\"../data_collection/data/RW_Graphs/df_S3.csv\", skipinitialspace=True, na_values='?', keep_default_na=True)\n",
    "\n",
    "df4 = pd.read_csv(\"../data_collection/data/RW_Graphs/df_S4.csv\", skipinitialspace=True, na_values='?', keep_default_na=True)\n",
    "\n",
    "df1_dict=create_data(df1,2)\n",
    "df2_dict=create_data(df2,2)\n",
    "df3_dict=create_data(df3,2)\n",
    "df4_dict=create_data(df4,2)\n",
    "\n",
    "\n",
    "t01=dict_compare(df1_dict,df2_dict)\n",
    "\n",
    "t23=dict_compare(df3_dict,df4_dict)"
   ]
  },
  {
   "cell_type": "markdown",
   "id": "db40569a",
   "metadata": {},
   "source": [
    "### 1 vs 2"
   ]
  },
  {
   "cell_type": "code",
   "execution_count": 28,
   "id": "4f4fc315",
   "metadata": {},
   "outputs": [
    {
     "data": {
      "application/vnd.plotly.v1+json": {
       "config": {
        "linkText": "Export to plot.ly",
        "plotlyServerURL": "https://plot.ly",
        "showLink": false
       },
       "data": [
        {
         "arrangement": "snap",
         "domain": {
          "x": [
           0,
           1
          ],
          "y": [
           0,
           1
          ]
         },
         "link": {
          "color": [
           "rgba(5, 31, 223, 0.15)",
           "rgba(5, 31, 223, 0.15)",
           "rgba(5, 31, 223, 0.15)",
           "rgba(5, 31, 223, 0.15)",
           "rgba(170, 230, 242, 0.66)",
           "rgba(170, 230, 242, 0.66)",
           "rgba(170, 230, 242, 0.66)",
           "rgba(170, 230, 242, 0.66)",
           "rgba(239, 203, 26, 0.18)",
           "rgba(239, 203, 26, 0.18)",
           "rgba(239, 203, 26, 0.18)",
           "rgba(239, 203, 26, 0.18)",
           "rgba(253,227,212,1",
           "rgba(253,227,212,1",
           "rgba(253,227,212,1",
           "rgba(253,227,212,1"
          ],
          "source": [
           0,
           0,
           0,
           0,
           1,
           1,
           1,
           1,
           2,
           2,
           2,
           2,
           3,
           3,
           3,
           3
          ],
          "target": [
           4,
           5,
           6,
           7,
           4,
           5,
           6,
           7,
           4,
           5,
           6,
           7,
           4,
           5,
           6,
           7
          ],
          "value": [
           92,
           92,
           112,
           48,
           88,
           115,
           137,
           59,
           107,
           118,
           214,
           128,
           48,
           46,
           103,
           112
          ]
         },
         "node": {
          "color": [
           "#000793",
           "#49D8E8",
           "#EFCB1A",
           "#E80C0C",
           "#000793",
           "#49D8E8",
           "#EFCB1A",
           "#E80C0C"
          ],
          "label": [
           "0-0.25",
           "0.25-0.5",
           "0.5-0.75",
           "0.75-1",
           "0-0.25",
           "0.25-0.5",
           "0.5-0.75",
           "0.75-1"
          ],
          "line": {
           "color": "black",
           "width": 0
          },
          "pad": 10,
          "x": [
           0.001,
           0.001,
           0.001,
           0.001,
           0.99,
           0.99,
           0.99,
           0.99
          ],
          "y": [
           0.001,
           0.3,
           0.6,
           0.9,
           0.001,
           0.3,
           0.6,
           0.9
          ]
         },
         "orientation": "h",
         "type": "sankey",
         "valueformat": ".0f"
        }
       ],
       "layout": {
        "font": {
         "size": 10
        },
        "height": 772,
        "title": "Sankey Diagram of 1 vs 2 temporal snapshot"
       }
      },
      "text/html": [
       "<div>                            <div id=\"feba01b7-8ff8-498a-b289-48d19ad53a16\" class=\"plotly-graph-div\" style=\"height:772px; width:100%;\"></div>            <script type=\"text/javascript\">                require([\"plotly\"], function(Plotly) {                    window.PLOTLYENV=window.PLOTLYENV || {};                                    if (document.getElementById(\"feba01b7-8ff8-498a-b289-48d19ad53a16\")) {                    Plotly.newPlot(                        \"feba01b7-8ff8-498a-b289-48d19ad53a16\",                        [{\"type\":\"sankey\",\"arrangement\":\"snap\",\"domain\":{\"x\":[0,1],\"y\":[0,1]},\"orientation\":\"h\",\"valueformat\":\".0f\",\"node\":{\"pad\":10,\"line\":{\"color\":\"black\",\"width\":0},\"label\":[\"0-0.25\",\"0.25-0.5\",\"0.5-0.75\",\"0.75-1\",\"0-0.25\",\"0.25-0.5\",\"0.5-0.75\",\"0.75-1\"],\"y\":[0.001,0.3,0.6,0.9,0.001,0.3,0.6,0.9],\"x\":[0.001,0.001,0.001,0.001,0.99,0.99,0.99,0.99],\"color\":[\"#000793\",\"#49D8E8\",\"#EFCB1A\",\"#E80C0C\",\"#000793\",\"#49D8E8\",\"#EFCB1A\",\"#E80C0C\"]},\"link\":{\"source\":[0,0,0,0,1,1,1,1,2,2,2,2,3,3,3,3],\"target\":[4,5,6,7,4,5,6,7,4,5,6,7,4,5,6,7],\"value\":[92,92,112,48,88,115,137,59,107,118,214,128,48,46,103,112],\"color\":[\"rgba(5, 31, 223, 0.15)\",\"rgba(5, 31, 223, 0.15)\",\"rgba(5, 31, 223, 0.15)\",\"rgba(5, 31, 223, 0.15)\",\"rgba(170, 230, 242, 0.66)\",\"rgba(170, 230, 242, 0.66)\",\"rgba(170, 230, 242, 0.66)\",\"rgba(170, 230, 242, 0.66)\",\"rgba(239, 203, 26, 0.18)\",\"rgba(239, 203, 26, 0.18)\",\"rgba(239, 203, 26, 0.18)\",\"rgba(239, 203, 26, 0.18)\",\"rgba(253,227,212,1\",\"rgba(253,227,212,1\",\"rgba(253,227,212,1\",\"rgba(253,227,212,1\"]}}],                        {\"title\":\"Sankey Diagram of 1 vs 2 temporal snapshot\",\"height\":772,\"font\":{\"size\":10}},                        {\"responsive\": true}                    ).then(function(){\n",
       "                            \n",
       "var gd = document.getElementById('feba01b7-8ff8-498a-b289-48d19ad53a16');\n",
       "var x = new MutationObserver(function (mutations, observer) {{\n",
       "        var display = window.getComputedStyle(gd).display;\n",
       "        if (!display || display === 'none') {{\n",
       "            console.log([gd, 'removed!']);\n",
       "            Plotly.purge(gd);\n",
       "            observer.disconnect();\n",
       "        }}\n",
       "}});\n",
       "\n",
       "// Listen for the removal of the full notebook cells\n",
       "var notebookContainer = gd.closest('#notebook-container');\n",
       "if (notebookContainer) {{\n",
       "    x.observe(notebookContainer, {childList: true});\n",
       "}}\n",
       "\n",
       "// Listen for the clearing of the current output cell\n",
       "var outputEl = gd.closest('.output');\n",
       "if (outputEl) {{\n",
       "    x.observe(outputEl, {childList: true});\n",
       "}}\n",
       "\n",
       "                        })                };                });            </script>        </div>"
      ]
     },
     "metadata": {},
     "output_type": "display_data"
    }
   ],
   "source": [
    "# time 1 to time 2\n",
    "links = [['Source','Target','Value','Link Color'],\n",
    "\n",
    "        # tempo 0 al tempo 1\n",
    "        [0,4,t01[0,0],'rgba(5, 31, 223, 0.15)'],\n",
    "        [0,5,t01[0,0.25],'rgba(5, 31, 223, 0.15)'],\n",
    "        [0,6,t01[0,0.5],'rgba(5, 31, 223, 0.15)'],\n",
    "        [0,7,t01[0,1],'rgba(5, 31, 223, 0.15)'],\n",
    "\n",
    "        [1,4,t01[0.25,0],'rgba(170, 230, 242, 0.66)'],\n",
    "        [1,5,t01[0.25,0.25],'rgba(170, 230, 242, 0.66)'],\n",
    "        [1,6,t01[0.25,0.5],'rgba(170, 230, 242, 0.66)'],\n",
    "        [1,7,t01[0.25,1],'rgba(170, 230, 242, 0.66)'],\n",
    "\n",
    "        [2,4,t01[0.5,0],'rgba(239, 203, 26, 0.18)'],\n",
    "        [2,5,t01[0.5,0.25],'rgba(239, 203, 26, 0.18)'],\n",
    "        [2,6,t01[0.5,0.5],'rgba(239, 203, 26, 0.18)'],\n",
    "        [2,7,t01[0.5,1],'rgba(239, 203, 26, 0.18)'],\n",
    "         \n",
    "        [3,4,t01[1,0],'rgba(253,227,212,1'],\n",
    "        [3,5,t01[1,0.25],'rgba(253,227,212,1'],\n",
    "        [3,6,t01[1,0.5],'rgba(253,227,212,1'],\n",
    "        [3,7,t01[1,1],'rgba(253,227,212,1'],\n",
    "        ]\n",
    "         \n",
    "\n",
    "# Nodes & links\n",
    "nodes = [['ID', 'Label', 'Color'],\n",
    "        [0,'0-0.25','#000793'],\n",
    "        [1,'0.25-0.5','#49D8E8'],\n",
    "        [2,'0.5-0.75','#EFCB1A'],\n",
    "        [3,'0.75-1','#E80C0C'],\n",
    "        [4,'0-0.25','#000793'],\n",
    "        [5,'0.25-0.5','#49D8E8'],\n",
    "        [6,'0.5-0.75','#EFCB1A'],\n",
    "        [7,'0.75-1','#E80C0C'],\n",
    "        ]\n",
    "\n",
    "# Retrieve headers and build dataframes\n",
    "nodes_headers = nodes.pop(0)\n",
    "links_headers = links.pop(0)\n",
    "df_nodes = pd.DataFrame(nodes, columns = nodes_headers)\n",
    "df_links = pd.DataFrame(links, columns = links_headers)\n",
    "#df_nodes['counts']=count_nodes\n",
    "# Sankey plot setup\n",
    "data_trace = dict(\n",
    "    type='sankey',\n",
    "    arrangement = \"snap\",\n",
    "    domain = dict(\n",
    "      x =  [0,1],\n",
    "      y =  [0,1]\n",
    "    ),\n",
    "    orientation = \"h\",\n",
    "    valueformat = \".0f\",\n",
    "    node = dict(\n",
    "      pad = 10,\n",
    "    # thickness = 30,\n",
    "      line = dict(\n",
    "        color = \"black\",\n",
    "        width = 0,\n",
    "        #value=df_nodes['counts'].dropna(axis=0, how='any')\n",
    "      ),\n",
    "      #value=df_nodes['counts'].dropna(axis=0, how='any'),\n",
    "      label =  df_nodes['Label'].dropna(axis=0, how='any'),\n",
    "      y=[0.001,0.3,0.6,0.9,0.001,0.3,0.6,0.9],\n",
    "      x=[0.001,0.001,0.001,0.001,0.99,0.99,0.99,0.99],\n",
    "      color = df_nodes['Color'],\n",
    "    ),\n",
    "    link = dict(\n",
    "      source = df_links['Source'].dropna(axis=0, how='any'),\n",
    "      target = df_links['Target'].dropna(axis=0, how='any'),\n",
    "      value = df_links['Value'].dropna(axis=0, how='any'),\n",
    "      color = df_links['Link Color'].dropna(axis=0, how='any'),\n",
    "  )\n",
    ")\n",
    "\n",
    "layout = dict(\n",
    "        title = \"Sankey Diagram of 1 vs 2 temporal snapshot\",\n",
    "    height = 772,\n",
    "    font = dict(\n",
    "      size = 10),)\n",
    "\n",
    "fig = dict(data=[data_trace], layout=layout)\n",
    "iplot(fig, validate=False)"
   ]
  },
  {
   "cell_type": "markdown",
   "id": "c62e6118",
   "metadata": {},
   "source": [
    "### 3 vs 4"
   ]
  },
  {
   "cell_type": "code",
   "execution_count": 29,
   "id": "87e6fcb5",
   "metadata": {
    "scrolled": false
   },
   "outputs": [
    {
     "data": {
      "application/vnd.plotly.v1+json": {
       "config": {
        "linkText": "Export to plot.ly",
        "plotlyServerURL": "https://plot.ly",
        "showLink": false
       },
       "data": [
        {
         "arrangement": "snap",
         "domain": {
          "x": [
           0,
           1
          ],
          "y": [
           0,
           1
          ]
         },
         "link": {
          "color": [
           "rgba(5, 31, 223, 0.15)",
           "rgba(5, 31, 223, 0.15)",
           "rgba(5, 31, 223, 0.15)",
           "rgba(5, 31, 223, 0.15)",
           "rgba(170, 230, 242, 0.66)",
           "rgba(170, 230, 242, 0.66)",
           "rgba(170, 230, 242, 0.66)",
           "rgba(170, 230, 242, 0.66)",
           "rgba(239, 203, 26, 0.18)",
           "rgba(239, 203, 26, 0.18)",
           "rgba(239, 203, 26, 0.18)",
           "rgba(239, 203, 26, 0.18)",
           "rgba(253,227,212,1",
           "rgba(253,227,212,1",
           "rgba(253,227,212,1",
           "rgba(253,227,212,1"
          ],
          "source": [
           0,
           0,
           0,
           0,
           1,
           1,
           1,
           1,
           2,
           2,
           2,
           2,
           3,
           3,
           3,
           3
          ],
          "target": [
           4,
           5,
           6,
           7,
           4,
           5,
           6,
           7,
           4,
           5,
           6,
           7,
           4,
           5,
           6,
           7
          ],
          "value": [
           64,
           56,
           71,
           15,
           43,
           62,
           68,
           26,
           55,
           84,
           157,
           75,
           33,
           42,
           106,
           68
          ]
         },
         "node": {
          "color": [
           "#000793",
           "#49D8E8",
           "#EFCB1A",
           "#E80C0C",
           "#000793",
           "#49D8E8",
           "#EFCB1A",
           "#E80C0C"
          ],
          "label": [
           "0-0.25",
           "0.25-0.5",
           "0.5-0.75",
           "0.75-1",
           "0-0.25",
           "0.25-0.5",
           "0.5-0.75",
           "0.75-1"
          ],
          "line": {
           "color": "black",
           "width": 0
          },
          "pad": 10,
          "x": [
           0.001,
           0.001,
           0.001,
           0.001,
           0.99,
           0.99,
           0.99,
           0.99
          ],
          "y": [
           0.001,
           0.3,
           0.6,
           0.9,
           0.001,
           0.3,
           0.6,
           0.9
          ]
         },
         "orientation": "h",
         "type": "sankey",
         "valueformat": ".0f"
        }
       ],
       "layout": {
        "font": {
         "size": 10
        },
        "height": 772,
        "title": "Sankey Diagram of 3 vs 4 temporal snapshot"
       }
      },
      "text/html": [
       "<div>                            <div id=\"4d0d429e-5f08-4986-af72-66ef5e650167\" class=\"plotly-graph-div\" style=\"height:772px; width:100%;\"></div>            <script type=\"text/javascript\">                require([\"plotly\"], function(Plotly) {                    window.PLOTLYENV=window.PLOTLYENV || {};                                    if (document.getElementById(\"4d0d429e-5f08-4986-af72-66ef5e650167\")) {                    Plotly.newPlot(                        \"4d0d429e-5f08-4986-af72-66ef5e650167\",                        [{\"type\":\"sankey\",\"arrangement\":\"snap\",\"domain\":{\"x\":[0,1],\"y\":[0,1]},\"orientation\":\"h\",\"valueformat\":\".0f\",\"node\":{\"pad\":10,\"line\":{\"color\":\"black\",\"width\":0},\"label\":[\"0-0.25\",\"0.25-0.5\",\"0.5-0.75\",\"0.75-1\",\"0-0.25\",\"0.25-0.5\",\"0.5-0.75\",\"0.75-1\"],\"y\":[0.001,0.3,0.6,0.9,0.001,0.3,0.6,0.9],\"x\":[0.001,0.001,0.001,0.001,0.99,0.99,0.99,0.99],\"color\":[\"#000793\",\"#49D8E8\",\"#EFCB1A\",\"#E80C0C\",\"#000793\",\"#49D8E8\",\"#EFCB1A\",\"#E80C0C\"]},\"link\":{\"source\":[0,0,0,0,1,1,1,1,2,2,2,2,3,3,3,3],\"target\":[4,5,6,7,4,5,6,7,4,5,6,7,4,5,6,7],\"value\":[64,56,71,15,43,62,68,26,55,84,157,75,33,42,106,68],\"color\":[\"rgba(5, 31, 223, 0.15)\",\"rgba(5, 31, 223, 0.15)\",\"rgba(5, 31, 223, 0.15)\",\"rgba(5, 31, 223, 0.15)\",\"rgba(170, 230, 242, 0.66)\",\"rgba(170, 230, 242, 0.66)\",\"rgba(170, 230, 242, 0.66)\",\"rgba(170, 230, 242, 0.66)\",\"rgba(239, 203, 26, 0.18)\",\"rgba(239, 203, 26, 0.18)\",\"rgba(239, 203, 26, 0.18)\",\"rgba(239, 203, 26, 0.18)\",\"rgba(253,227,212,1\",\"rgba(253,227,212,1\",\"rgba(253,227,212,1\",\"rgba(253,227,212,1\"]}}],                        {\"title\":\"Sankey Diagram of 3 vs 4 temporal snapshot\",\"height\":772,\"font\":{\"size\":10}},                        {\"responsive\": true}                    ).then(function(){\n",
       "                            \n",
       "var gd = document.getElementById('4d0d429e-5f08-4986-af72-66ef5e650167');\n",
       "var x = new MutationObserver(function (mutations, observer) {{\n",
       "        var display = window.getComputedStyle(gd).display;\n",
       "        if (!display || display === 'none') {{\n",
       "            console.log([gd, 'removed!']);\n",
       "            Plotly.purge(gd);\n",
       "            observer.disconnect();\n",
       "        }}\n",
       "}});\n",
       "\n",
       "// Listen for the removal of the full notebook cells\n",
       "var notebookContainer = gd.closest('#notebook-container');\n",
       "if (notebookContainer) {{\n",
       "    x.observe(notebookContainer, {childList: true});\n",
       "}}\n",
       "\n",
       "// Listen for the clearing of the current output cell\n",
       "var outputEl = gd.closest('.output');\n",
       "if (outputEl) {{\n",
       "    x.observe(outputEl, {childList: true});\n",
       "}}\n",
       "\n",
       "                        })                };                });            </script>        </div>"
      ]
     },
     "metadata": {},
     "output_type": "display_data"
    }
   ],
   "source": [
    "# time 3 to time 4\n",
    "links = [['Source','Target','Value','Link Color'],\n",
    "\n",
    "        # tempo 0 al tempo 1\n",
    "        [0,4,t23[0,0],'rgba(5, 31, 223, 0.15)'],\n",
    "        [0,5,t23[0,0.25],'rgba(5, 31, 223, 0.15)'],\n",
    "        [0,6,t23[0,0.5],'rgba(5, 31, 223, 0.15)'],\n",
    "        [0,7,t23[0,1],'rgba(5, 31, 223, 0.15)'],\n",
    "\n",
    "        [1,4,t23[0.25,0],'rgba(170, 230, 242, 0.66)'],\n",
    "        [1,5,t23[0.25,0.25],'rgba(170, 230, 242, 0.66)'],\n",
    "        [1,6,t23[0.25,0.5],'rgba(170, 230, 242, 0.66)'],\n",
    "        [1,7,t23[0.25,1],'rgba(170, 230, 242, 0.66)'],\n",
    "\n",
    "        [2,4,t23[0.5,0],'rgba(239, 203, 26, 0.18)'],\n",
    "        [2,5,t23[0.5,0.25],'rgba(239, 203, 26, 0.18)'],\n",
    "        [2,6,t23[0.5,0.5],'rgba(239, 203, 26, 0.18)'],\n",
    "        [2,7,t23[0.5,1],'rgba(239, 203, 26, 0.18)'],\n",
    "         \n",
    "        [3,4,t23[1,0],'rgba(253,227,212,1'],\n",
    "        [3,5,t23[1,0.25],'rgba(253,227,212,1'],\n",
    "        [3,6,t23[1,0.5],'rgba(253,227,212,1'],\n",
    "        [3,7,t23[1,1],'rgba(253,227,212,1'],\n",
    "        ]\n",
    "         \n",
    "\n",
    "# Nodes & links\n",
    "nodes = [['ID', 'Label', 'Color'],\n",
    "        [0,'0-0.25','#000793'],\n",
    "        [1,'0.25-0.5','#49D8E8'],\n",
    "        [2,'0.5-0.75','#EFCB1A'],\n",
    "        [3,'0.75-1','#E80C0C'],\n",
    "        [4,'0-0.25','#000793'],\n",
    "        [5,'0.25-0.5','#49D8E8'],\n",
    "        [6,'0.5-0.75','#EFCB1A'],\n",
    "        [7,'0.75-1','#E80C0C'],\n",
    "        ]\n",
    "\n",
    "# Retrieve headers and build dataframes\n",
    "nodes_headers = nodes.pop(0)\n",
    "links_headers = links.pop(0)\n",
    "df_nodes = pd.DataFrame(nodes, columns = nodes_headers)\n",
    "df_links = pd.DataFrame(links, columns = links_headers)\n",
    "#df_nodes['counts']=count_nodes\n",
    "# Sankey plot setup\n",
    "data_trace = dict(\n",
    "    type='sankey',\n",
    "    arrangement = \"snap\",\n",
    "    domain = dict(\n",
    "      x =  [0,1],\n",
    "      y =  [0,1]\n",
    "    ),\n",
    "    orientation = \"h\",\n",
    "    valueformat = \".0f\",\n",
    "    node = dict(\n",
    "      pad = 10,\n",
    "    # thickness = 30,\n",
    "      line = dict(\n",
    "        color = \"black\",\n",
    "        width = 0,\n",
    "        #value=df_nodes['counts'].dropna(axis=0, how='any')\n",
    "      ),\n",
    "      #value=df_nodes['counts'].dropna(axis=0, how='any'),\n",
    "      label =  df_nodes['Label'].dropna(axis=0, how='any'),\n",
    "      y=[0.001,0.3,0.6,0.9,0.001,0.3,0.6,0.9],\n",
    "      x=[0.001,0.001,0.001,0.001,0.99,0.99,0.99,0.99],\n",
    "      color = df_nodes['Color'],\n",
    "    ),\n",
    "    link = dict(\n",
    "      source = df_links['Source'].dropna(axis=0, how='any'),\n",
    "      target = df_links['Target'].dropna(axis=0, how='any'),\n",
    "      value = df_links['Value'].dropna(axis=0, how='any'),\n",
    "      color = df_links['Link Color'].dropna(axis=0, how='any'),\n",
    "  )\n",
    ")\n",
    "\n",
    "layout = dict(\n",
    "        title = \"Sankey Diagram of 3 vs 4 temporal snapshot\",\n",
    "    height = 772,\n",
    "    font = dict(\n",
    "      size = 10),)\n",
    "\n",
    "fig = dict(data=[data_trace], layout=layout)\n",
    "iplot(fig, validate=False)"
   ]
  },
  {
   "cell_type": "markdown",
   "id": "aa37e56e",
   "metadata": {},
   "source": [
    "## Comparison of changes"
   ]
  },
  {
   "cell_type": "code",
   "execution_count": 30,
   "id": "df659924",
   "metadata": {},
   "outputs": [
    {
     "data": {
      "image/png": "[encoded data removed]",
      "text/plain": [
       "<Figure size 432x288 with 1 Axes>"
      ]
     },
     "metadata": {},
     "output_type": "display_data"
    }
   ],
   "source": [
    "labels = ['0-0.25', '0.25-0.5', '0.5-0.75', '0.75-1', '0-0.5','0.5-1']\n",
    "BtA = [31, -31, 6, 9, -9, 7]\n",
    "BtA_ucr = [33, -31, 5, 9, -9,6]\n",
    "zerotoone= [-2,-9,-0.1,6,-5,4]\n",
    "\n",
    "x = 3*np.arange(len(labels))  # the label locations\n",
    "width = 0.6  # the width of the bars\n",
    "\n",
    "fig, ax = plt.subplots()\n",
    "rects1 = ax.bar(x - width, BtA, width, label='Before to After')\n",
    "rects2 = ax.bar(x, BtA_ucr, width, label='Before to After without Ukraine')\n",
    "rects3 = ax.bar(x + width, zerotoone, width, label='zero to one (DCD)')\n",
    "\n",
    "# Add some text for labels, title and custom x-axis tick labels, etc.\n",
    "ax.set_ylabel('Change in percentage (%)')\n",
    "ax.set_title('Change in percentage by group and temporal snapshots')\n",
    "ax.set_xticks(x, labels)\n",
    "ax.legend()\n",
    "\n",
    "ax.bar_label(rects1, padding=2)\n",
    "ax.bar_label(rects2, padding=2)\n",
    "ax.bar_label(rects3, padding=2)\n",
    "\n",
    "fig.tight_layout()\n",
    "\n",
    "plt.show()"
   ]
  },
  {
   "cell_type": "markdown",
   "id": "4a708c70",
   "metadata": {},
   "source": [
    "# Community Distribution"
   ]
  },
  {
   "cell_type": "markdown",
   "id": "0dc1ef5c",
   "metadata": {},
   "source": [
    "Lastly, it could be interesting to study how the user label distributes in each community through time. As shown in Figure \\ref{community_distribution_5}, one can see that a community does not really represent a definite opinion. This behaviour is similar to the other distributions, and it is confirmed by the high variance and similar mean of each distribution. This is not surprising, since the community are build by topological assumption and not by taking in consideration the user label. This may be a hint that a community represents a topic, where users with different opinions interact with each others. Moreover, it can be noticed in Figure \\ref{community_distribution_5} that the user label distribution appears to be stable through time, i.e. the changes of the bins are small."
   ]
  },
  {
   "cell_type": "code",
   "execution_count": 31,
   "id": "0f5b671d",
   "metadata": {},
   "outputs": [],
   "source": [
    "#import dataset with the community label\n",
    "df1 = pd.read_csv(\"../data_collection/data/RW_Graphs/df_S1_comm.csv\", skipinitialspace=True, na_values='?', keep_default_na=True)\n",
    "\n",
    "df2 = pd.read_csv(\"../data_collection/data/RW_Graphs/df_S2_comm.csv\", skipinitialspace=True, na_values='?', keep_default_na=True)\n",
    "\n",
    "df3 = pd.read_csv(\"../data_collection/data/RW_Graphs/df_S3_comm.csv\", skipinitialspace=True, na_values='?', keep_default_na=True)\n",
    "\n",
    "df4 = pd.read_csv(\"../data_collection/data/RW_Graphs/df_S4_comm.csv\", skipinitialspace=True, na_values='?', keep_default_na=True)"
   ]
  },
  {
   "cell_type": "code",
   "execution_count": 32,
   "id": "89e42e28",
   "metadata": {},
   "outputs": [],
   "source": [
    "#same as above, but we keep track of the community\n",
    "gb = df1.groupby(['User'])\n",
    "counts = gb.size().to_frame(name='counts')\n",
    "df1_count=counts.join(gb.agg({'tweet_label': 'mean'}).rename(columns={'tweet_label': 'user_label'})).join(gb.agg({'Community': pd.Series.mode}))\n",
    "#df1_count['Community']=gb['Community']\n",
    "\n",
    "#ignore timestamp, we keep just the value of the community\n",
    "df1_count['Community'] = [x.strip()[-1] for x in df1_count['Community']]\n",
    "\n",
    "gb = df2.groupby(['User'])\n",
    "counts = gb.size().to_frame(name='counts')\n",
    "df2_count=counts.join(gb.agg({'tweet_label': 'mean'}).rename(columns={'tweet_label': 'user_label'})).join(gb.agg({'Community': pd.Series.mode}))\n",
    "\n",
    "df2_count['Community'] = [x.strip()[-1] for x in df2_count['Community']]\n",
    "\n",
    "\n",
    "gb = df3.groupby(['User'])\n",
    "counts = gb.size().to_frame(name='counts')\n",
    "df3_count=counts.join(gb.agg({'tweet_label': 'mean'}).rename(columns={'tweet_label': 'user_label'})).join(gb.agg({'Community': pd.Series.mode}))\n",
    "\n",
    "df3_count['Community'] = [x.strip()[-1] for x in df3_count['Community']]\n",
    "\n",
    "\n",
    "gb = df4.groupby(['User'])\n",
    "counts = gb.size().to_frame(name='counts')\n",
    "df4_count=counts.join(gb.agg({'tweet_label': 'mean'}).rename(columns={'tweet_label': 'user_label'})).join(gb.agg({'Community': pd.Series.mode}))\n",
    "\n",
    "df4_count['Community'] = [x.strip()[-1] for x in df4_count['Community']]\n"
   ]
  },
  {
   "cell_type": "code",
   "execution_count": 33,
   "id": "40763ab9",
   "metadata": {},
   "outputs": [],
   "source": [
    "#same as above\n",
    "N=2\n",
    "\n",
    "df1_sorted=df1_count.loc[(df1_count['counts'] > N)]\n",
    "df2_sorted=df2_count.loc[(df2_count['counts'] > N)]\n",
    "df3_sorted=df3_count.loc[(df3_count['counts'] > N)]\n",
    "df4_sorted=df4_count.loc[(df4_count['counts'] > N)]"
   ]
  },
  {
   "cell_type": "code",
   "execution_count": 34,
   "id": "48a5ccc6",
   "metadata": {},
   "outputs": [],
   "source": [
    "def cre_dic(daf):\n",
    "    '''Function that takes a dictionary as an input and returns a dictionary which has as key the community\n",
    "    and as value the array of the user label of each member of the community'''\n",
    "    \n",
    "    community_list=daf['Community'].unique() #get names of the community in dictionary\n",
    "    \n",
    "    d={}\n",
    "\n",
    "    for ele in community_list: #iterate over the communities of the dataset\n",
    "\n",
    "        df1_ao=daf.loc[daf['Community'] == ele] #select just the community iterating\n",
    "        d[ele]=df1_ao['user_label'].values #take all the values of the column user_label for that community\n",
    "    return d"
   ]
  },
  {
   "cell_type": "code",
   "execution_count": 35,
   "id": "c71ab108",
   "metadata": {},
   "outputs": [],
   "source": [
    "#create dictionary for every time stamp\n",
    "d1=cre_dic(df1_sorted)\n",
    "d2=cre_dic(df2_sorted)\n",
    "d3=cre_dic(df3_sorted)\n",
    "d4=cre_dic(df4_sorted)\n"
   ]
  },
  {
   "cell_type": "code",
   "execution_count": 36,
   "id": "e622687c",
   "metadata": {},
   "outputs": [],
   "source": [
    "#define a list of dictionary to create a dataframe\n",
    "list_of_dict=[d1,d2,d3,d4]"
   ]
  },
  {
   "cell_type": "code",
   "execution_count": 37,
   "id": "8f5e0d5a",
   "metadata": {},
   "outputs": [],
   "source": [
    "#dataframe with the community and time stamps\n",
    "df_temp = pd.DataFrame(list_of_dict)\n",
    "\n",
    "do={}\n",
    "\n",
    "for column in df_temp: #for every timestamp\n",
    "    #create a dictionary which has as key the community and as label an array of arrays\n",
    "    #of user label and time stamps\n",
    "    do[column] = df_temp[column].values\n",
    "    "
   ]
  },
  {
   "cell_type": "code",
   "execution_count": 41,
   "id": "ad740739",
   "metadata": {},
   "outputs": [
    {
     "data": {
      "image/png": "[encoded data removed]",
      "text/plain": [
       "<Figure size 432x288 with 1 Axes>"
      ]
     },
     "metadata": {},
     "output_type": "display_data"
    },
    {
     "data": {
      "image/png": "[encoded data removed]",
      "text/plain": [
       "<Figure size 432x288 with 1 Axes>"
      ]
     },
     "metadata": {},
     "output_type": "display_data"
    },
    {
     "data": {
      "image/png": "[encoded data removed]",
      "text/plain": [
       "<Figure size 432x288 with 1 Axes>"
      ]
     },
     "metadata": {},
     "output_type": "display_data"
    },
    {
     "data": {
      "image/png": "[encoded data removed]",
      "text/plain": [
       "<Figure size 432x288 with 1 Axes>"
      ]
     },
     "metadata": {},
     "output_type": "display_data"
    },
    {
     "data": {
      "image/png": "[encoded data removed]",
      "text/plain": [
       "<Figure size 432x288 with 1 Axes>"
      ]
     },
     "metadata": {},
     "output_type": "display_data"
    },
    {
     "data": {
      "image/png": "[encoded data removed]",
      "text/plain": [
       "<Figure size 432x288 with 1 Axes>"
      ]
     },
     "metadata": {},
     "output_type": "display_data"
    },
    {
     "data": {
      "image/png": "[encoded data removed]",
      "text/plain": [
       "<Figure size 432x288 with 1 Axes>"
      ]
     },
     "metadata": {},
     "output_type": "display_data"
    },
    {
     "data": {
      "image/png": "[encoded data removed]",
      "text/plain": [
       "<Figure size 432x288 with 1 Axes>"
      ]
     },
     "metadata": {},
     "output_type": "display_data"
    }
   ],
   "source": [
    "for key in list(do.keys())[:-1]:    #for every community\n",
    "    plt.figure()\n",
    "    #plot the distribution of user_label stacking the timestamps\n",
    "    plt.hist(do[key], 10, stacked=True, density=True,label=['t0','t1','t2','t3'])\n",
    "    plt.legend()\n",
    "    plt.xlabel('User Label')\n",
    "    plt.title('community {}'.format(key))\n",
    "    plt.show()"
   ]
  },
  {
   "cell_type": "code",
   "execution_count": 42,
   "id": "37c8f8cb",
   "metadata": {},
   "outputs": [],
   "source": [
    "#create other dictionaries in order to get distribution for every single community and time stamp (not stacked)\n",
    "dfs4 = dict(tuple(df4_sorted.groupby('Community')))\n",
    "dfs3 = dict(tuple(df3_sorted.groupby('Community')))\n",
    "dfs2 = dict(tuple(df2_sorted.groupby('Community')))\n",
    "dfs1 = dict(tuple(df1_sorted.groupby('Community')))\n"
   ]
  },
  {
   "cell_type": "code",
   "execution_count": 43,
   "id": "3b3ef813",
   "metadata": {},
   "outputs": [],
   "source": [
    "def create_bar_plot(dic_of_fr):\n",
    "    for key,value in dic_of_fr.items():\n",
    "        val_to_round=5*value.user_label #create five bins\n",
    "        value.user_label=val_to_round.round()/5\n",
    "        nuovo=value['user_label'].value_counts().sort_index()\n",
    "        \n",
    "        ax=nuovo.plot.bar(title=key)\n",
    "        ax.set_xlabel(\"Label\", fontsize=12)\n",
    "        ax.set_ylabel(\"Counts\", fontsize=12)\n",
    "        plt.show()"
   ]
  },
  {
   "cell_type": "code",
   "execution_count": 44,
   "id": "d9d5545d",
   "metadata": {},
   "outputs": [
    {
     "data": {
      "image/png": "[encoded data removed]",
      "text/plain": [
       "<Figure size 432x288 with 1 Axes>"
      ]
     },
     "metadata": {},
     "output_type": "display_data"
    },
    {
     "data": {
      "image/png": "[encoded data removed]",
      "text/plain": [
       "<Figure size 432x288 with 1 Axes>"
      ]
     },
     "metadata": {},
     "output_type": "display_data"
    },
    {
     "data": {
      "image/png": "[encoded data removed]",
      "text/plain": [
       "<Figure size 432x288 with 1 Axes>"
      ]
     },
     "metadata": {},
     "output_type": "display_data"
    },
    {
     "data": {
      "image/png": "[encoded data removed]",
      "text/plain": [
       "<Figure size 432x288 with 1 Axes>"
      ]
     },
     "metadata": {},
     "output_type": "display_data"
    },
    {
     "data": {
      "image/png": "[encoded data removed]",
      "text/plain": [
       "<Figure size 432x288 with 1 Axes>"
      ]
     },
     "metadata": {},
     "output_type": "display_data"
    },
    {
     "data": {
      "image/png": "[encoded data removed]",
      "text/plain": [
       "<Figure size 432x288 with 1 Axes>"
      ]
     },
     "metadata": {},
     "output_type": "display_data"
    },
    {
     "data": {
      "image/png": "[encoded data removed]",
      "text/plain": [
       "<Figure size 432x288 with 1 Axes>"
      ]
     },
     "metadata": {},
     "output_type": "display_data"
    },
    {
     "data": {
      "image/png": "[encoded data removed]",
      "text/plain": [
       "<Figure size 432x288 with 1 Axes>"
      ]
     },
     "metadata": {},
     "output_type": "display_data"
    }
   ],
   "source": [
    "create_bar_plot(dfs1)"
   ]
  },
  {
   "cell_type": "code",
   "execution_count": 45,
   "id": "18f76856",
   "metadata": {},
   "outputs": [
    {
     "data": {
      "image/png": "[encoded data removed]",
      "text/plain": [
       "<Figure size 432x288 with 1 Axes>"
      ]
     },
     "metadata": {},
     "output_type": "display_data"
    },
    {
     "data": {
      "image/png": "[encoded data removed]",
      "text/plain": [
       "<Figure size 432x288 with 1 Axes>"
      ]
     },
     "metadata": {},
     "output_type": "display_data"
    },
    {
     "data": {
      "image/png": "[encoded data removed]",
      "text/plain": [
       "<Figure size 432x288 with 1 Axes>"
      ]
     },
     "metadata": {},
     "output_type": "display_data"
    },
    {
     "data": {
      "image/png": "[encoded data removed]",
      "text/plain": [
       "<Figure size 432x288 with 1 Axes>"
      ]
     },
     "metadata": {},
     "output_type": "display_data"
    },
    {
     "data": {
      "image/png": "[encoded data removed]",
      "text/plain": [
       "<Figure size 432x288 with 1 Axes>"
      ]
     },
     "metadata": {},
     "output_type": "display_data"
    },
    {
     "data": {
      "image/png": "[encoded data removed]",
      "text/plain": [
       "<Figure size 432x288 with 1 Axes>"
      ]
     },
     "metadata": {},
     "output_type": "display_data"
    },
    {
     "data": {
      "image/png": "[encoded data removed]",
      "text/plain": [
       "<Figure size 432x288 with 1 Axes>"
      ]
     },
     "metadata": {},
     "output_type": "display_data"
    },
    {
     "data": {
      "image/png": "[encoded data removed]",
      "text/plain": [
       "<Figure size 432x288 with 1 Axes>"
      ]
     },
     "metadata": {},
     "output_type": "display_data"
    },
    {
     "data": {
      "image/png": "[encoded data removed]",
      "text/plain": [
       "<Figure size 432x288 with 1 Axes>"
      ]
     },
     "metadata": {},
     "output_type": "display_data"
    }
   ],
   "source": [
    "create_bar_plot(dfs2)"
   ]
  },
  {
   "cell_type": "code",
   "execution_count": 46,
   "id": "9f5a923d",
   "metadata": {},
   "outputs": [
    {
     "data": {
      "image/png": "[encoded data removed]",
      "text/plain": [
       "<Figure size 432x288 with 1 Axes>"
      ]
     },
     "metadata": {},
     "output_type": "display_data"
    },
    {
     "data": {
      "image/png": "[encoded data removed]",
      "text/plain": [
       "<Figure size 432x288 with 1 Axes>"
      ]
     },
     "metadata": {},
     "output_type": "display_data"
    },
    {
     "data": {
      "image/png": "[encoded data removed]",
      "text/plain": [
       "<Figure size 432x288 with 1 Axes>"
      ]
     },
     "metadata": {},
     "output_type": "display_data"
    },
    {
     "data": {
      "image/png": "[encoded data removed]",
      "text/plain": [
       "<Figure size 432x288 with 1 Axes>"
      ]
     },
     "metadata": {},
     "output_type": "display_data"
    },
    {
     "data": {
      "image/png": "[encoded data removed]",
      "text/plain": [
       "<Figure size 432x288 with 1 Axes>"
      ]
     },
     "metadata": {},
     "output_type": "display_data"
    },
    {
     "data": {
      "image/png": "[encoded data removed]",
      "text/plain": [
       "<Figure size 432x288 with 1 Axes>"
      ]
     },
     "metadata": {},
     "output_type": "display_data"
    },
    {
     "data": {
      "image/png": "[encoded data removed]",
      "text/plain": [
       "<Figure size 432x288 with 1 Axes>"
      ]
     },
     "metadata": {},
     "output_type": "display_data"
    },
    {
     "data": {
      "image/png": "[encoded data removed]",
      "text/plain": [
       "<Figure size 432x288 with 1 Axes>"
      ]
     },
     "metadata": {},
     "output_type": "display_data"
    }
   ],
   "source": [
    "create_bar_plot(dfs3)"
   ]
  },
  {
   "cell_type": "code",
   "execution_count": 47,
   "id": "cb6873be",
   "metadata": {},
   "outputs": [
    {
     "data": {
      "image/png": "[encoded data removed]",
      "text/plain": [
       "<Figure size 432x288 with 1 Axes>"
      ]
     },
     "metadata": {},
     "output_type": "display_data"
    },
    {
     "data": {
      "image/png": "[encoded data removed]",
      "text/plain": [
       "<Figure size 432x288 with 1 Axes>"
      ]
     },
     "metadata": {},
     "output_type": "display_data"
    },
    {
     "data": {
      "image/png": "[encoded data removed]",
      "text/plain": [
       "<Figure size 432x288 with 1 Axes>"
      ]
     },
     "metadata": {},
     "output_type": "display_data"
    },
    {
     "data": {
      "image/png": "[encoded data removed]",
      "text/plain": [
       "<Figure size 432x288 with 1 Axes>"
      ]
     },
     "metadata": {},
     "output_type": "display_data"
    },
    {
     "data": {
      "image/png": "[encoded data removed]",
      "text/plain": [
       "<Figure size 432x288 with 1 Axes>"
      ]
     },
     "metadata": {},
     "output_type": "display_data"
    },
    {
     "data": {
      "image/png": "[encoded data removed]",
      "text/plain": [
       "<Figure size 432x288 with 1 Axes>"
      ]
     },
     "metadata": {},
     "output_type": "display_data"
    },
    {
     "data": {
      "image/png": "[encoded data removed]",
      "text/plain": [
       "<Figure size 432x288 with 1 Axes>"
      ]
     },
     "metadata": {},
     "output_type": "display_data"
    },
    {
     "data": {
      "image/png": "[encoded data removed]",
      "text/plain": [
       "<Figure size 432x288 with 1 Axes>"
      ]
     },
     "metadata": {},
     "output_type": "display_data"
    },
    {
     "data": {
      "image/png": "[encoded data removed]",
      "text/plain": [
       "<Figure size 432x288 with 1 Axes>"
      ]
     },
     "metadata": {},
     "output_type": "display_data"
    }
   ],
   "source": [
    "create_bar_plot(dfs4)"
   ]
  },
  {
   "cell_type": "code",
   "execution_count": 48,
   "id": "097d8e44",
   "metadata": {},
   "outputs": [],
   "source": [
    "def stat_data(df1): \n",
    "    '''Function that take a dataframe as input and returns the statistics of user_label splitted by community'''\n",
    "    \n",
    "    #groupby user and compute user label as already did like 100 times \n",
    "    gb = df1.groupby(['User'])\n",
    "    counts = gb.size().to_frame(name='counts')\n",
    "    df_prestat=(counts.join(gb.agg({'tweet_label': 'mean'}).rename(columns={'tweet_label': 'user_label'}))\n",
    "               .join(gb.agg({'Community': pd.Series.mode}))\n",
    "              )\n",
    "    #same condition on the number of tweets per user\n",
    "    N=2\n",
    "\n",
    "    df_prestat=df_prestat.loc[(df_prestat['counts'] > N)]\n",
    "\n",
    "    #group by community\n",
    "    gb = df_prestat.groupby(['Community'])\n",
    "    #count how many user in each community\n",
    "    counts = gb.size().to_frame(name='counts')\n",
    "    #get statistics of user label per community\n",
    "    df_stat=(counts.join(gb.agg({'user_label': 'mean'}).rename(columns={'user_label': 'mean'}))\n",
    "               .join(gb.agg({'user_label': 'std'}).rename(columns={'user_label': 'std'})) #standard deviation\n",
    "               .join(gb.agg({'user_label': 'median'}).rename(columns={'user_label': 'median'}))\n",
    "               #.join(gb.agg({'user_label': pd.Series.mode}).rename(columns={'user_label': 'mode'}))\n",
    "               #.join(gb.agg({'Community': pd.Series.mode}))\n",
    "\n",
    "              )\n",
    "    return df_stat"
   ]
  },
  {
   "cell_type": "code",
   "execution_count": 49,
   "id": "d373506b",
   "metadata": {},
   "outputs": [
    {
     "data": {
      "text/html": [
       "<div>\n",
       "<style scoped>\n",
       "    .dataframe tbody tr th:only-of-type {\n",
       "        vertical-align: middle;\n",
       "    }\n",
       "\n",
       "    .dataframe tbody tr th {\n",
       "        vertical-align: top;\n",
       "    }\n",
       "\n",
       "    .dataframe thead th {\n",
       "        text-align: right;\n",
       "    }\n",
       "</style>\n",
       "<table border=\"1\" class=\"dataframe\">\n",
       "  <thead>\n",
       "    <tr style=\"text-align: right;\">\n",
       "      <th></th>\n",
       "      <th>counts</th>\n",
       "      <th>mean</th>\n",
       "      <th>std</th>\n",
       "      <th>median</th>\n",
       "    </tr>\n",
       "    <tr>\n",
       "      <th>Community</th>\n",
       "      <th></th>\n",
       "      <th></th>\n",
       "      <th></th>\n",
       "      <th></th>\n",
       "    </tr>\n",
       "  </thead>\n",
       "  <tbody>\n",
       "    <tr>\n",
       "      <th>0</th>\n",
       "      <td>10</td>\n",
       "      <td>0.513333</td>\n",
       "      <td>0.345411</td>\n",
       "      <td>0.583333</td>\n",
       "    </tr>\n",
       "    <tr>\n",
       "      <th>1_0</th>\n",
       "      <td>517</td>\n",
       "      <td>0.423380</td>\n",
       "      <td>0.262916</td>\n",
       "      <td>0.333333</td>\n",
       "    </tr>\n",
       "    <tr>\n",
       "      <th>1_1</th>\n",
       "      <td>319</td>\n",
       "      <td>0.451890</td>\n",
       "      <td>0.275066</td>\n",
       "      <td>0.428571</td>\n",
       "    </tr>\n",
       "    <tr>\n",
       "      <th>1_2</th>\n",
       "      <td>476</td>\n",
       "      <td>0.431490</td>\n",
       "      <td>0.266328</td>\n",
       "      <td>0.400000</td>\n",
       "    </tr>\n",
       "    <tr>\n",
       "      <th>1_3</th>\n",
       "      <td>492</td>\n",
       "      <td>0.512698</td>\n",
       "      <td>0.288385</td>\n",
       "      <td>0.500000</td>\n",
       "    </tr>\n",
       "    <tr>\n",
       "      <th>1_4</th>\n",
       "      <td>479</td>\n",
       "      <td>0.451037</td>\n",
       "      <td>0.275223</td>\n",
       "      <td>0.416667</td>\n",
       "    </tr>\n",
       "    <tr>\n",
       "      <th>1_5</th>\n",
       "      <td>411</td>\n",
       "      <td>0.460349</td>\n",
       "      <td>0.261705</td>\n",
       "      <td>0.444444</td>\n",
       "    </tr>\n",
       "    <tr>\n",
       "      <th>1_6</th>\n",
       "      <td>296</td>\n",
       "      <td>0.595007</td>\n",
       "      <td>0.266870</td>\n",
       "      <td>0.666667</td>\n",
       "    </tr>\n",
       "    <tr>\n",
       "      <th>1_7</th>\n",
       "      <td>365</td>\n",
       "      <td>0.509393</td>\n",
       "      <td>0.250336</td>\n",
       "      <td>0.500000</td>\n",
       "    </tr>\n",
       "  </tbody>\n",
       "</table>\n",
       "</div>"
      ],
      "text/plain": [
       "           counts      mean       std    median\n",
       "Community                                      \n",
       "0              10  0.513333  0.345411  0.583333\n",
       "1_0           517  0.423380  0.262916  0.333333\n",
       "1_1           319  0.451890  0.275066  0.428571\n",
       "1_2           476  0.431490  0.266328  0.400000\n",
       "1_3           492  0.512698  0.288385  0.500000\n",
       "1_4           479  0.451037  0.275223  0.416667\n",
       "1_5           411  0.460349  0.261705  0.444444\n",
       "1_6           296  0.595007  0.266870  0.666667\n",
       "1_7           365  0.509393  0.250336  0.500000"
      ]
     },
     "execution_count": 49,
     "metadata": {},
     "output_type": "execute_result"
    }
   ],
   "source": [
    "stat_data(df1)"
   ]
  },
  {
   "cell_type": "code",
   "execution_count": 50,
   "id": "711a2965",
   "metadata": {},
   "outputs": [
    {
     "data": {
      "text/html": [
       "<div>\n",
       "<style scoped>\n",
       "    .dataframe tbody tr th:only-of-type {\n",
       "        vertical-align: middle;\n",
       "    }\n",
       "\n",
       "    .dataframe tbody tr th {\n",
       "        vertical-align: top;\n",
       "    }\n",
       "\n",
       "    .dataframe thead th {\n",
       "        text-align: right;\n",
       "    }\n",
       "</style>\n",
       "<table border=\"1\" class=\"dataframe\">\n",
       "  <thead>\n",
       "    <tr style=\"text-align: right;\">\n",
       "      <th></th>\n",
       "      <th>counts</th>\n",
       "      <th>mean</th>\n",
       "      <th>std</th>\n",
       "      <th>median</th>\n",
       "    </tr>\n",
       "    <tr>\n",
       "      <th>Community</th>\n",
       "      <th></th>\n",
       "      <th></th>\n",
       "      <th></th>\n",
       "      <th></th>\n",
       "    </tr>\n",
       "  </thead>\n",
       "  <tbody>\n",
       "    <tr>\n",
       "      <th>0</th>\n",
       "      <td>10</td>\n",
       "      <td>0.597727</td>\n",
       "      <td>0.345479</td>\n",
       "      <td>0.583333</td>\n",
       "    </tr>\n",
       "    <tr>\n",
       "      <th>2_0</th>\n",
       "      <td>550</td>\n",
       "      <td>0.460812</td>\n",
       "      <td>0.275530</td>\n",
       "      <td>0.400000</td>\n",
       "    </tr>\n",
       "    <tr>\n",
       "      <th>2_1</th>\n",
       "      <td>562</td>\n",
       "      <td>0.499394</td>\n",
       "      <td>0.272909</td>\n",
       "      <td>0.500000</td>\n",
       "    </tr>\n",
       "    <tr>\n",
       "      <th>2_2</th>\n",
       "      <td>238</td>\n",
       "      <td>0.611669</td>\n",
       "      <td>0.270160</td>\n",
       "      <td>0.666667</td>\n",
       "    </tr>\n",
       "    <tr>\n",
       "      <th>2_3</th>\n",
       "      <td>527</td>\n",
       "      <td>0.424483</td>\n",
       "      <td>0.263627</td>\n",
       "      <td>0.375000</td>\n",
       "    </tr>\n",
       "    <tr>\n",
       "      <th>2_4</th>\n",
       "      <td>192</td>\n",
       "      <td>0.479511</td>\n",
       "      <td>0.262329</td>\n",
       "      <td>0.500000</td>\n",
       "    </tr>\n",
       "    <tr>\n",
       "      <th>2_5</th>\n",
       "      <td>216</td>\n",
       "      <td>0.561852</td>\n",
       "      <td>0.277264</td>\n",
       "      <td>0.585714</td>\n",
       "    </tr>\n",
       "    <tr>\n",
       "      <th>2_6</th>\n",
       "      <td>376</td>\n",
       "      <td>0.482236</td>\n",
       "      <td>0.256782</td>\n",
       "      <td>0.500000</td>\n",
       "    </tr>\n",
       "    <tr>\n",
       "      <th>2_7</th>\n",
       "      <td>265</td>\n",
       "      <td>0.541185</td>\n",
       "      <td>0.271429</td>\n",
       "      <td>0.555556</td>\n",
       "    </tr>\n",
       "    <tr>\n",
       "      <th>2_8</th>\n",
       "      <td>297</td>\n",
       "      <td>0.498981</td>\n",
       "      <td>0.255109</td>\n",
       "      <td>0.500000</td>\n",
       "    </tr>\n",
       "  </tbody>\n",
       "</table>\n",
       "</div>"
      ],
      "text/plain": [
       "           counts      mean       std    median\n",
       "Community                                      \n",
       "0              10  0.597727  0.345479  0.583333\n",
       "2_0           550  0.460812  0.275530  0.400000\n",
       "2_1           562  0.499394  0.272909  0.500000\n",
       "2_2           238  0.611669  0.270160  0.666667\n",
       "2_3           527  0.424483  0.263627  0.375000\n",
       "2_4           192  0.479511  0.262329  0.500000\n",
       "2_5           216  0.561852  0.277264  0.585714\n",
       "2_6           376  0.482236  0.256782  0.500000\n",
       "2_7           265  0.541185  0.271429  0.555556\n",
       "2_8           297  0.498981  0.255109  0.500000"
      ]
     },
     "execution_count": 50,
     "metadata": {},
     "output_type": "execute_result"
    }
   ],
   "source": [
    "stat_data(df2)"
   ]
  },
  {
   "cell_type": "code",
   "execution_count": 51,
   "id": "b6ef99f8",
   "metadata": {},
   "outputs": [
    {
     "data": {
      "text/html": [
       "<div>\n",
       "<style scoped>\n",
       "    .dataframe tbody tr th:only-of-type {\n",
       "        vertical-align: middle;\n",
       "    }\n",
       "\n",
       "    .dataframe tbody tr th {\n",
       "        vertical-align: top;\n",
       "    }\n",
       "\n",
       "    .dataframe thead th {\n",
       "        text-align: right;\n",
       "    }\n",
       "</style>\n",
       "<table border=\"1\" class=\"dataframe\">\n",
       "  <thead>\n",
       "    <tr style=\"text-align: right;\">\n",
       "      <th></th>\n",
       "      <th>counts</th>\n",
       "      <th>mean</th>\n",
       "      <th>std</th>\n",
       "      <th>median</th>\n",
       "    </tr>\n",
       "    <tr>\n",
       "      <th>Community</th>\n",
       "      <th></th>\n",
       "      <th></th>\n",
       "      <th></th>\n",
       "      <th></th>\n",
       "    </tr>\n",
       "  </thead>\n",
       "  <tbody>\n",
       "    <tr>\n",
       "      <th>0</th>\n",
       "      <td>6</td>\n",
       "      <td>0.641026</td>\n",
       "      <td>0.353693</td>\n",
       "      <td>0.673077</td>\n",
       "    </tr>\n",
       "    <tr>\n",
       "      <th>3_0</th>\n",
       "      <td>284</td>\n",
       "      <td>0.537939</td>\n",
       "      <td>0.307693</td>\n",
       "      <td>0.500000</td>\n",
       "    </tr>\n",
       "    <tr>\n",
       "      <th>3_1</th>\n",
       "      <td>190</td>\n",
       "      <td>0.391663</td>\n",
       "      <td>0.284802</td>\n",
       "      <td>0.333333</td>\n",
       "    </tr>\n",
       "    <tr>\n",
       "      <th>3_2</th>\n",
       "      <td>202</td>\n",
       "      <td>0.598734</td>\n",
       "      <td>0.283341</td>\n",
       "      <td>0.666667</td>\n",
       "    </tr>\n",
       "    <tr>\n",
       "      <th>3_3</th>\n",
       "      <td>206</td>\n",
       "      <td>0.503160</td>\n",
       "      <td>0.292939</td>\n",
       "      <td>0.500000</td>\n",
       "    </tr>\n",
       "    <tr>\n",
       "      <th>3_4</th>\n",
       "      <td>154</td>\n",
       "      <td>0.572506</td>\n",
       "      <td>0.285936</td>\n",
       "      <td>0.625000</td>\n",
       "    </tr>\n",
       "    <tr>\n",
       "      <th>3_5</th>\n",
       "      <td>179</td>\n",
       "      <td>0.495428</td>\n",
       "      <td>0.282536</td>\n",
       "      <td>0.500000</td>\n",
       "    </tr>\n",
       "    <tr>\n",
       "      <th>3_6</th>\n",
       "      <td>135</td>\n",
       "      <td>0.594801</td>\n",
       "      <td>0.275040</td>\n",
       "      <td>0.666667</td>\n",
       "    </tr>\n",
       "    <tr>\n",
       "      <th>3_7</th>\n",
       "      <td>141</td>\n",
       "      <td>0.420261</td>\n",
       "      <td>0.257395</td>\n",
       "      <td>0.333333</td>\n",
       "    </tr>\n",
       "  </tbody>\n",
       "</table>\n",
       "</div>"
      ],
      "text/plain": [
       "           counts      mean       std    median\n",
       "Community                                      \n",
       "0               6  0.641026  0.353693  0.673077\n",
       "3_0           284  0.537939  0.307693  0.500000\n",
       "3_1           190  0.391663  0.284802  0.333333\n",
       "3_2           202  0.598734  0.283341  0.666667\n",
       "3_3           206  0.503160  0.292939  0.500000\n",
       "3_4           154  0.572506  0.285936  0.625000\n",
       "3_5           179  0.495428  0.282536  0.500000\n",
       "3_6           135  0.594801  0.275040  0.666667\n",
       "3_7           141  0.420261  0.257395  0.333333"
      ]
     },
     "execution_count": 51,
     "metadata": {},
     "output_type": "execute_result"
    }
   ],
   "source": [
    "stat_data(df3)"
   ]
  },
  {
   "cell_type": "code",
   "execution_count": 52,
   "id": "c58e7be5",
   "metadata": {},
   "outputs": [
    {
     "data": {
      "text/html": [
       "<div>\n",
       "<style scoped>\n",
       "    .dataframe tbody tr th:only-of-type {\n",
       "        vertical-align: middle;\n",
       "    }\n",
       "\n",
       "    .dataframe tbody tr th {\n",
       "        vertical-align: top;\n",
       "    }\n",
       "\n",
       "    .dataframe thead th {\n",
       "        text-align: right;\n",
       "    }\n",
       "</style>\n",
       "<table border=\"1\" class=\"dataframe\">\n",
       "  <thead>\n",
       "    <tr style=\"text-align: right;\">\n",
       "      <th></th>\n",
       "      <th>counts</th>\n",
       "      <th>mean</th>\n",
       "      <th>std</th>\n",
       "      <th>median</th>\n",
       "    </tr>\n",
       "    <tr>\n",
       "      <th>Community</th>\n",
       "      <th></th>\n",
       "      <th></th>\n",
       "      <th></th>\n",
       "      <th></th>\n",
       "    </tr>\n",
       "  </thead>\n",
       "  <tbody>\n",
       "    <tr>\n",
       "      <th>0</th>\n",
       "      <td>1</td>\n",
       "      <td>1.000000</td>\n",
       "      <td>NaN</td>\n",
       "      <td>1.000000</td>\n",
       "    </tr>\n",
       "    <tr>\n",
       "      <th>4_0</th>\n",
       "      <td>527</td>\n",
       "      <td>0.467982</td>\n",
       "      <td>0.279504</td>\n",
       "      <td>0.500000</td>\n",
       "    </tr>\n",
       "    <tr>\n",
       "      <th>4_1</th>\n",
       "      <td>382</td>\n",
       "      <td>0.551604</td>\n",
       "      <td>0.279370</td>\n",
       "      <td>0.594118</td>\n",
       "    </tr>\n",
       "    <tr>\n",
       "      <th>4_2</th>\n",
       "      <td>450</td>\n",
       "      <td>0.472595</td>\n",
       "      <td>0.273406</td>\n",
       "      <td>0.480769</td>\n",
       "    </tr>\n",
       "    <tr>\n",
       "      <th>4_3</th>\n",
       "      <td>418</td>\n",
       "      <td>0.486695</td>\n",
       "      <td>0.279731</td>\n",
       "      <td>0.500000</td>\n",
       "    </tr>\n",
       "    <tr>\n",
       "      <th>4_4</th>\n",
       "      <td>411</td>\n",
       "      <td>0.527027</td>\n",
       "      <td>0.274253</td>\n",
       "      <td>0.500000</td>\n",
       "    </tr>\n",
       "    <tr>\n",
       "      <th>4_5</th>\n",
       "      <td>294</td>\n",
       "      <td>0.499325</td>\n",
       "      <td>0.267074</td>\n",
       "      <td>0.500000</td>\n",
       "    </tr>\n",
       "    <tr>\n",
       "      <th>4_6</th>\n",
       "      <td>349</td>\n",
       "      <td>0.473197</td>\n",
       "      <td>0.251503</td>\n",
       "      <td>0.500000</td>\n",
       "    </tr>\n",
       "    <tr>\n",
       "      <th>4_7</th>\n",
       "      <td>278</td>\n",
       "      <td>0.475789</td>\n",
       "      <td>0.262179</td>\n",
       "      <td>0.500000</td>\n",
       "    </tr>\n",
       "    <tr>\n",
       "      <th>4_8</th>\n",
       "      <td>260</td>\n",
       "      <td>0.492508</td>\n",
       "      <td>0.262364</td>\n",
       "      <td>0.500000</td>\n",
       "    </tr>\n",
       "  </tbody>\n",
       "</table>\n",
       "</div>"
      ],
      "text/plain": [
       "           counts      mean       std    median\n",
       "Community                                      \n",
       "0               1  1.000000       NaN  1.000000\n",
       "4_0           527  0.467982  0.279504  0.500000\n",
       "4_1           382  0.551604  0.279370  0.594118\n",
       "4_2           450  0.472595  0.273406  0.480769\n",
       "4_3           418  0.486695  0.279731  0.500000\n",
       "4_4           411  0.527027  0.274253  0.500000\n",
       "4_5           294  0.499325  0.267074  0.500000\n",
       "4_6           349  0.473197  0.251503  0.500000\n",
       "4_7           278  0.475789  0.262179  0.500000\n",
       "4_8           260  0.492508  0.262364  0.500000"
      ]
     },
     "execution_count": 52,
     "metadata": {},
     "output_type": "execute_result"
    }
   ],
   "source": [
    "stat_data(df4)"
   ]
  },
  {
   "cell_type": "markdown",
   "id": "0a79405b",
   "metadata": {},
   "source": [
    "# Distribution of user_label based on tweet content"
   ]
  },
  {
   "cell_type": "code",
   "execution_count": 53,
   "id": "980f5f23",
   "metadata": {},
   "outputs": [],
   "source": [
    "#get all dataset\n",
    "df = pd.concat([df1, df2,df3,df4])"
   ]
  },
  {
   "cell_type": "code",
   "execution_count": 54,
   "id": "abba4ea4",
   "metadata": {},
   "outputs": [],
   "source": [
    "def stat_data_ucr(df1): \n",
    "    '''Function that take a dataframe as input and returns the statistics of user_label if the tweet are about Ukraine'''\n",
    "    \n",
    "\n",
    "    #group by ukr\n",
    "    gb = df1.groupby(['ukr'])\n",
    "    #count how many user in each community\n",
    "    counts = gb.size().to_frame(name='counts')\n",
    "    #get statistics of user label per community\n",
    "    df_stat=(counts.join(gb.agg({'tweet_label': 'mean'}).rename(columns={'tweet_label': 'mean'}))\n",
    "               .join(gb.agg({'tweet_label': 'std'}).rename(columns={'tweet_label': 'std'})) #standard deviation\n",
    "               .join(gb.agg({'tweet_label': 'median'}).rename(columns={'tweet_label': 'median'}))\n",
    "               #.join(gb.agg({'user_label': pd.Series.mode}).rename(columns={'user_label': 'mode'}))\n",
    "               #.join(gb.agg({'Community': pd.Series.mode}))\n",
    "\n",
    "              )\n",
    "    return df_stat"
   ]
  },
  {
   "cell_type": "code",
   "execution_count": 55,
   "id": "c67c0dd1",
   "metadata": {},
   "outputs": [
    {
     "data": {
      "text/html": [
       "<div>\n",
       "<style scoped>\n",
       "    .dataframe tbody tr th:only-of-type {\n",
       "        vertical-align: middle;\n",
       "    }\n",
       "\n",
       "    .dataframe tbody tr th {\n",
       "        vertical-align: top;\n",
       "    }\n",
       "\n",
       "    .dataframe thead th {\n",
       "        text-align: right;\n",
       "    }\n",
       "</style>\n",
       "<table border=\"1\" class=\"dataframe\">\n",
       "  <thead>\n",
       "    <tr style=\"text-align: right;\">\n",
       "      <th></th>\n",
       "      <th>counts</th>\n",
       "      <th>mean</th>\n",
       "      <th>std</th>\n",
       "      <th>median</th>\n",
       "    </tr>\n",
       "    <tr>\n",
       "      <th>ukr</th>\n",
       "      <th></th>\n",
       "      <th></th>\n",
       "      <th></th>\n",
       "      <th></th>\n",
       "    </tr>\n",
       "  </thead>\n",
       "  <tbody>\n",
       "    <tr>\n",
       "      <th>0</th>\n",
       "      <td>131069</td>\n",
       "      <td>0.509152</td>\n",
       "      <td>0.499918</td>\n",
       "      <td>1.0</td>\n",
       "    </tr>\n",
       "    <tr>\n",
       "      <th>1</th>\n",
       "      <td>808</td>\n",
       "      <td>0.716584</td>\n",
       "      <td>0.450936</td>\n",
       "      <td>1.0</td>\n",
       "    </tr>\n",
       "  </tbody>\n",
       "</table>\n",
       "</div>"
      ],
      "text/plain": [
       "     counts      mean       std  median\n",
       "ukr                                    \n",
       "0    131069  0.509152  0.499918     1.0\n",
       "1       808  0.716584  0.450936     1.0"
      ]
     },
     "execution_count": 55,
     "metadata": {},
     "output_type": "execute_result"
    }
   ],
   "source": [
    "stat_data_ucr(df)"
   ]
  },
  {
   "cell_type": "code",
   "execution_count": 56,
   "id": "f11a16f8",
   "metadata": {},
   "outputs": [
    {
     "data": {
      "image/png": "[encoded data removed]",
      "text/plain": [
       "<Figure size 432x288 with 1 Axes>"
      ]
     },
     "metadata": {},
     "output_type": "display_data"
    }
   ],
   "source": [
    "#create a histogram of user label if the tweets concern Ukraine\n",
    "df_ucr = df[df['ukr'] == 1]\n",
    "gb = df_ucr.groupby(['User'])\n",
    "counts = gb.size().to_frame(name='counts')\n",
    "df1_count=counts.join(gb.agg({'tweet_label': 'mean'}).rename(columns={'tweet_label': 'user_label'}))\n",
    "df1_count=df1_count.loc[(df1_count['counts'] >= 1)]\n",
    "plt.hist(df1_count['user_label'],bins=3)\n",
    "plt.title('Distribution of user_label for tweets regarding Ukraine')\n",
    "plt.xlabel('User Label')\n",
    "plt.ylabel('Counts')\n",
    "plt.savefig(\"./plots/ucr3.pdf\")\n",
    "plt.show()"
   ]
  },
  {
   "cell_type": "code",
   "execution_count": 57,
   "id": "9298ec81",
   "metadata": {},
   "outputs": [
    {
     "data": {
      "image/png": "[encoded data removed]",
      "text/plain": [
       "<Figure size 432x288 with 1 Axes>"
      ]
     },
     "metadata": {},
     "output_type": "display_data"
    }
   ],
   "source": [
    "#histogram if the tweet are not about Ukraine\n",
    "df_rest= df[df['ukr'] == 0]\n",
    "gb = df_rest.groupby(['User'])\n",
    "counts = gb.size().to_frame(name='counts')\n",
    "df1_count=counts.join(gb.agg({'tweet_label': 'mean'}).rename(columns={'tweet_label': 'user_label'}))\n",
    "df1_count=df1_count.loc[(df1_count['counts'] >= 2)]\n",
    "plt.hist(df1_count['user_label'],bins=3)\n",
    "plt.title('Distribution of user_label for tweets not regarding Ukraine')\n",
    "plt.xlabel('User Label')\n",
    "plt.ylabel('Counts')\n",
    "plt.savefig(\"./plots/rest3.pdf\")\n",
    "plt.show()"
   ]
  }
 ],
 "metadata": {
  "kernelspec": {
   "display_name": "Python 3 (ipykernel)",
   "language": "python",
   "name": "python3"
  },
  "language_info": {
   "codemirror_mode": {
    "name": "ipython",
    "version": 3
   },
   "file_extension": ".py",
   "mimetype": "text/x-python",
   "name": "python",
   "nbconvert_exporter": "python",
   "pygments_lexer": "ipython3",
   "version": "3.9.4"
  }
 },
 "nbformat": 4,
 "nbformat_minor": 5
}
